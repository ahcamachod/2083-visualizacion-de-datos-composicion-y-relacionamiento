{
  "nbformat": 4,
  "nbformat_minor": 0,
  "metadata": {
    "colab": {
      "provenance": [],
      "include_colab_link": true
    },
    "kernelspec": {
      "name": "python3",
      "display_name": "Python 3"
    },
    "language_info": {
      "name": "python"
    }
  },
  "cells": [
    {
      "cell_type": "markdown",
      "metadata": {
        "id": "view-in-github",
        "colab_type": "text"
      },
      "source": [
        "<a href=\"https://colab.research.google.com/github/ahcamachod/2083-visualizacion-de-datos-composicion-y-relacionamiento/blob/aula-2/graficos_de_composicion_y_relacionamiento.ipynb\" target=\"_parent\"><img src=\"https://colab.research.google.com/assets/colab-badge.svg\" alt=\"Open In Colab\"/></a>"
      ]
    },
    {
      "cell_type": "markdown",
      "source": [
        "# **<font color=green>Data Visualization: Gráficos de composición y relacionamiento</font>**\n",
        "---"
      ],
      "metadata": {
        "id": "7D3n0DACbyjf"
      }
    },
    {
      "cell_type": "markdown",
      "source": [
        "# **Clase 1 - Proporción de los datos**\n"
      ],
      "metadata": {
        "id": "Au2nZsz9ezur"
      }
    },
    {
      "cell_type": "markdown",
      "source": [
        "## **1.1 Introducción**\n",
        "\n",
        "---\n",
        "\n",
        "En este curso, vamos a construir un portafolio con los análisis de **dos** bases de datos diferentes, explorando cada una y respondiendo a las preguntas planteadas en torno a sus datos. Todas las bases están en formato CSV y se pueden acceder a través de los links indicados.\n",
        "\n",
        "> **Bases de datos:**\n",
        "\n",
        "1.   Tabla con los PIBs (Producto Interno Bruto) de los estados brasileños en el período de 2002 - 2020\n",
        "\n",
        "2.   Tabla con la puntuación del Saber 11 (Examen de Estado de la Educación Media en Colombia) de las instituciones educativas a nivel nacional.\n",
        "\n",
        "En cada clase, vamos a pasar por una base de datos y realización nuestros análisis de acuerdo con las preguntas que se presenten buscando responderlas por medio de la utilización de recursos visuales (gráficos y elementos visuales)."
      ],
      "metadata": {
        "id": "zozK6sjqX0YH"
      }
    },
    {
      "cell_type": "markdown",
      "source": [
        "### Paleta de colores"
      ],
      "metadata": {
        "id": "YvLE4O2iemTx"
      }
    },
    {
      "cell_type": "markdown",
      "source": [
        "|Azul||||||\n",
        "|------|------|------|------|------|------|\n",
        "| AZUL1 |AZUL2 |AZUL3 |AZUL4 |AZUL5 |AZUL6 |\n",
        "|#174A7E | #4A81BF | #6495ED| #2596be | #94AFC5 | #CDDBF3 |\n",
        "|![adicionar desc](https://github.com/afonsosr2/dataviz-graficos-composicao-relacionamento/blob/638632b27146722cb9589f502a3a444a4eeac717/imagens/paleta_cores/AZUL1.png?raw=true)|![adicionar desc](https://github.com/afonsosr2/dataviz-graficos-composicao-relacionamento/blob/638632b27146722cb9589f502a3a444a4eeac717/imagens/paleta_cores/AZUL2.png?raw=true)|![adicionar desc](https://github.com/afonsosr2/dataviz-graficos-composicao-relacionamento/blob/638632b27146722cb9589f502a3a444a4eeac717/imagens/paleta_cores/AZUL3.png?raw=true)|![adicionar desc](https://github.com/afonsosr2/dataviz-graficos-composicao-relacionamento/blob/638632b27146722cb9589f502a3a444a4eeac717/imagens/paleta_cores/AZUL4.png?raw=true)|![adicionar desc](https://github.com/afonsosr2/dataviz-graficos-composicao-relacionamento/blob/638632b27146722cb9589f502a3a444a4eeac717/imagens/paleta_cores/AZUL5.png?raw=true)|![adicionar desc](https://github.com/afonsosr2/dataviz-graficos-composicao-relacionamento/blob/638632b27146722cb9589f502a3a444a4eeac717/imagens/paleta_cores/AZUL6.png?raw=true) |\n",
        "\n",
        "&nbsp;\n",
        "\n",
        "|Gris||||||\n",
        "|------|------|------|------|------|------|\n",
        "| GRIS1 |GRIS2 |GRIS3 |GRIS4 |GRIS5|BLANCO|\n",
        "|#231F20 | #414040| #555655 | #A6A6A5| #BFBEBE |#FFFFFF|\n",
        "| ![adicionar desc](https://github.com/afonsosr2/dataviz-graficos-composicao-relacionamento/blob/638632b27146722cb9589f502a3a444a4eeac717/imagens/paleta_cores/CINZA1.png?raw=true)  |![adicionar desc](https://github.com/afonsosr2/dataviz-graficos-composicao-relacionamento/blob/638632b27146722cb9589f502a3a444a4eeac717/imagens/paleta_cores/CINZA2.png?raw=true) |![adicionar desc](https://github.com/afonsosr2/dataviz-graficos-composicao-relacionamento/blob/638632b27146722cb9589f502a3a444a4eeac717/imagens/paleta_cores/CINZA3.png?raw=true) |![adicionar desc](https://github.com/afonsosr2/dataviz-graficos-composicao-relacionamento/blob/638632b27146722cb9589f502a3a444a4eeac717/imagens/paleta_cores/CINZA4.png?raw=true) |![adicionar desc](https://github.com/afonsosr2/dataviz-graficos-composicao-relacionamento/blob/638632b27146722cb9589f502a3a444a4eeac717/imagens/paleta_cores/CINZA5.png?raw=true)|![adicionar desc](https://github.com/afonsosr2/dataviz-graficos-composicao-relacionamento/blob/638632b27146722cb9589f502a3a444a4eeac717/imagens/paleta_cores/BRANCO.png?raw=true)|\n",
        "\n",
        "&nbsp;\n",
        "\n",
        "|Rojo|||Verde|||\n",
        "|------|------|------|------|------|------|\n",
        "| ROJO1 |ROJO2 |NARANJA1 | VERDE1 |VERDE2 | VERDE3 |\n",
        "|#C3514E | #E6BAB7 | #F79747|#0C8040 | #9ABB59 |#9ECCB3|\n",
        "| ![adicionar desc](https://github.com/afonsosr2/dataviz-graficos-composicao-relacionamento/blob/638632b27146722cb9589f502a3a444a4eeac717/imagens/paleta_cores//VERMELHO1.png?raw=true) |![adicionar desc](https://github.com/afonsosr2/dataviz-graficos-composicao-relacionamento/blob/638632b27146722cb9589f502a3a444a4eeac717/imagens/paleta_cores/VERMELHO2.png?raw=true)|![adicionar desc](https://github.com/afonsosr2/dataviz-graficos-composicao-relacionamento/blob/638632b27146722cb9589f502a3a444a4eeac717/imagens/paleta_cores/LARANJA1.png?raw=true)| ![adicionar desc](https://github.com/afonsosr2/dataviz-graficos-composicao-relacionamento/blob/638632b27146722cb9589f502a3a444a4eeac717/imagens/paleta_cores/VERDE1.png?raw=true) |![adicionar desc](https://github.com/afonsosr2/dataviz-graficos-composicao-relacionamento/blob/638632b27146722cb9589f502a3a444a4eeac717/imagens/paleta_cores/VERDE2.png?raw=true)|![adicionar desc](https://github.com/afonsosr2/dataviz-graficos-composicao-relacionamento/blob/638632b27146722cb9589f502a3a444a4eeac717/imagens/paleta_cores/VERDE3.png?raw=true)|\n"
      ],
      "metadata": {
        "id": "sAuABmczf3Ev"
      }
    },
    {
      "cell_type": "code",
      "source": [
        "# Definiendo la paleta de colores\n",
        "AZUL1, AZUL2, AZUL3, AZUL4, AZUL5, AZUL6 = '#174A7E', '#4A81BF', \"#6495ED\", '#2596BE', '#94AFC5', '#CDDBF3'\n",
        "GRIS1, GRIS2, GRIS3, GRIS4, GRIS5, BLANCO = '#231F20', '#414040', '#555655', '#A6A6A5', '#BFBEBE', '#FFFFFF'\n",
        "ROJO1, ROJO2, NARANJA1 = '#C3514E',\t'#E6BAB7',\t'#F79747'\n",
        "VERDE1, VERDE2, VERDE3 = '#0C8040',\t'#9ABB59', '#9ECCB3'"
      ],
      "metadata": {
        "id": "_LZKF5MzesCL"
      },
      "execution_count": null,
      "outputs": []
    },
    {
      "cell_type": "markdown",
      "source": [
        "## **1.2 - Presentando la base de datos**\n",
        "\n",
        "---\n",
        "\n"
      ],
      "metadata": {
        "id": "fTAQwVAbUQKM"
      }
    },
    {
      "cell_type": "markdown",
      "source": [
        "### **Situación-problema 1**\n",
        "\n",
        "Como científico de datos, has recibido un conjunto de datos para analizar la composición del PIB en relación a los estados de Brasil durante el período de 2002-2020. Los datos describen los valores del PIB y los valores agregados a él anualmente por sectores como agropecuario, industria, servicios y otros.\n",
        "\n",
        "Aquí, vamos a enfocarnos en investigar la composición de los datos en relación a los estados y regiones y generar algunos comentarios respecto a las preguntas planteadas."
      ],
      "metadata": {
        "id": "qYOQwjMnUQKR"
      }
    },
    {
      "cell_type": "code",
      "source": [
        "import numpy as np\n",
        "import pandas as pd\n",
        "import matplotlib.pyplot as plt\n",
        "import seaborn as sns"
      ],
      "metadata": {
        "id": "3Irjho4jM5wN"
      },
      "execution_count": null,
      "outputs": []
    },
    {
      "cell_type": "code",
      "source": [
        "df_pib = pd.read_csv(\"https://gist.githubusercontent.com/ahcamachod/c668d3184f60bd6a56837f2ef6d1adcb/raw/b0050ecd719d8a6581fdda9c43dee0b2877402b8/pib_br_2002_2020.csv\")\n",
        "df_pib.head()"
      ],
      "metadata": {
        "colab": {
          "base_uri": "https://localhost:8080/",
          "height": 226
        },
        "id": "eWoVg99qM5y-",
        "outputId": "683cb2be-bb71-48fd-cf6a-0d51f0cb7b7e"
      },
      "execution_count": null,
      "outputs": [
        {
          "output_type": "execute_result",
          "data": {
            "text/plain": [
              "    año estado region          pib  impuesto_liquido           va  \\\n",
              "0  2002     RO  Norte   7467629886         839731192   6627898698   \n",
              "1  2003     RO  Norte   9425010486        1108434936   8316575548   \n",
              "2  2004     RO  Norte  11004641436        1288806654   9715834778   \n",
              "3  2005     RO  Norte  12511821181        1476144194  11035676990   \n",
              "4  2006     RO  Norte  13054713344        1613809974  11440903374   \n",
              "\n",
              "   va_agropecuaria  va_industria  va_servicios  va_adespss  \n",
              "0        715526872    1191090432    2484579193  2236702207  \n",
              "1       1278658831    1216605061    3376727040  2444584625  \n",
              "2       1288515348    1674933817    3986529419  2765856199  \n",
              "3       1342222120    1887932121    4603783904  3201738843  \n",
              "4       1238006193    2210692147    4320526746  3671678293  "
            ],
            "text/html": [
              "\n",
              "  <div id=\"df-ae3e9dc6-845c-46f6-b2c8-bea59c3ac00f\" class=\"colab-df-container\">\n",
              "    <div>\n",
              "<style scoped>\n",
              "    .dataframe tbody tr th:only-of-type {\n",
              "        vertical-align: middle;\n",
              "    }\n",
              "\n",
              "    .dataframe tbody tr th {\n",
              "        vertical-align: top;\n",
              "    }\n",
              "\n",
              "    .dataframe thead th {\n",
              "        text-align: right;\n",
              "    }\n",
              "</style>\n",
              "<table border=\"1\" class=\"dataframe\">\n",
              "  <thead>\n",
              "    <tr style=\"text-align: right;\">\n",
              "      <th></th>\n",
              "      <th>año</th>\n",
              "      <th>estado</th>\n",
              "      <th>region</th>\n",
              "      <th>pib</th>\n",
              "      <th>impuesto_liquido</th>\n",
              "      <th>va</th>\n",
              "      <th>va_agropecuaria</th>\n",
              "      <th>va_industria</th>\n",
              "      <th>va_servicios</th>\n",
              "      <th>va_adespss</th>\n",
              "    </tr>\n",
              "  </thead>\n",
              "  <tbody>\n",
              "    <tr>\n",
              "      <th>0</th>\n",
              "      <td>2002</td>\n",
              "      <td>RO</td>\n",
              "      <td>Norte</td>\n",
              "      <td>7467629886</td>\n",
              "      <td>839731192</td>\n",
              "      <td>6627898698</td>\n",
              "      <td>715526872</td>\n",
              "      <td>1191090432</td>\n",
              "      <td>2484579193</td>\n",
              "      <td>2236702207</td>\n",
              "    </tr>\n",
              "    <tr>\n",
              "      <th>1</th>\n",
              "      <td>2003</td>\n",
              "      <td>RO</td>\n",
              "      <td>Norte</td>\n",
              "      <td>9425010486</td>\n",
              "      <td>1108434936</td>\n",
              "      <td>8316575548</td>\n",
              "      <td>1278658831</td>\n",
              "      <td>1216605061</td>\n",
              "      <td>3376727040</td>\n",
              "      <td>2444584625</td>\n",
              "    </tr>\n",
              "    <tr>\n",
              "      <th>2</th>\n",
              "      <td>2004</td>\n",
              "      <td>RO</td>\n",
              "      <td>Norte</td>\n",
              "      <td>11004641436</td>\n",
              "      <td>1288806654</td>\n",
              "      <td>9715834778</td>\n",
              "      <td>1288515348</td>\n",
              "      <td>1674933817</td>\n",
              "      <td>3986529419</td>\n",
              "      <td>2765856199</td>\n",
              "    </tr>\n",
              "    <tr>\n",
              "      <th>3</th>\n",
              "      <td>2005</td>\n",
              "      <td>RO</td>\n",
              "      <td>Norte</td>\n",
              "      <td>12511821181</td>\n",
              "      <td>1476144194</td>\n",
              "      <td>11035676990</td>\n",
              "      <td>1342222120</td>\n",
              "      <td>1887932121</td>\n",
              "      <td>4603783904</td>\n",
              "      <td>3201738843</td>\n",
              "    </tr>\n",
              "    <tr>\n",
              "      <th>4</th>\n",
              "      <td>2006</td>\n",
              "      <td>RO</td>\n",
              "      <td>Norte</td>\n",
              "      <td>13054713344</td>\n",
              "      <td>1613809974</td>\n",
              "      <td>11440903374</td>\n",
              "      <td>1238006193</td>\n",
              "      <td>2210692147</td>\n",
              "      <td>4320526746</td>\n",
              "      <td>3671678293</td>\n",
              "    </tr>\n",
              "  </tbody>\n",
              "</table>\n",
              "</div>\n",
              "    <div class=\"colab-df-buttons\">\n",
              "\n",
              "  <div class=\"colab-df-container\">\n",
              "    <button class=\"colab-df-convert\" onclick=\"convertToInteractive('df-ae3e9dc6-845c-46f6-b2c8-bea59c3ac00f')\"\n",
              "            title=\"Convert this dataframe to an interactive table.\"\n",
              "            style=\"display:none;\">\n",
              "\n",
              "  <svg xmlns=\"http://www.w3.org/2000/svg\" height=\"24px\" viewBox=\"0 -960 960 960\">\n",
              "    <path d=\"M120-120v-720h720v720H120Zm60-500h600v-160H180v160Zm220 220h160v-160H400v160Zm0 220h160v-160H400v160ZM180-400h160v-160H180v160Zm440 0h160v-160H620v160ZM180-180h160v-160H180v160Zm440 0h160v-160H620v160Z\"/>\n",
              "  </svg>\n",
              "    </button>\n",
              "\n",
              "  <style>\n",
              "    .colab-df-container {\n",
              "      display:flex;\n",
              "      gap: 12px;\n",
              "    }\n",
              "\n",
              "    .colab-df-convert {\n",
              "      background-color: #E8F0FE;\n",
              "      border: none;\n",
              "      border-radius: 50%;\n",
              "      cursor: pointer;\n",
              "      display: none;\n",
              "      fill: #1967D2;\n",
              "      height: 32px;\n",
              "      padding: 0 0 0 0;\n",
              "      width: 32px;\n",
              "    }\n",
              "\n",
              "    .colab-df-convert:hover {\n",
              "      background-color: #E2EBFA;\n",
              "      box-shadow: 0px 1px 2px rgba(60, 64, 67, 0.3), 0px 1px 3px 1px rgba(60, 64, 67, 0.15);\n",
              "      fill: #174EA6;\n",
              "    }\n",
              "\n",
              "    .colab-df-buttons div {\n",
              "      margin-bottom: 4px;\n",
              "    }\n",
              "\n",
              "    [theme=dark] .colab-df-convert {\n",
              "      background-color: #3B4455;\n",
              "      fill: #D2E3FC;\n",
              "    }\n",
              "\n",
              "    [theme=dark] .colab-df-convert:hover {\n",
              "      background-color: #434B5C;\n",
              "      box-shadow: 0px 1px 3px 1px rgba(0, 0, 0, 0.15);\n",
              "      filter: drop-shadow(0px 1px 2px rgba(0, 0, 0, 0.3));\n",
              "      fill: #FFFFFF;\n",
              "    }\n",
              "  </style>\n",
              "\n",
              "    <script>\n",
              "      const buttonEl =\n",
              "        document.querySelector('#df-ae3e9dc6-845c-46f6-b2c8-bea59c3ac00f button.colab-df-convert');\n",
              "      buttonEl.style.display =\n",
              "        google.colab.kernel.accessAllowed ? 'block' : 'none';\n",
              "\n",
              "      async function convertToInteractive(key) {\n",
              "        const element = document.querySelector('#df-ae3e9dc6-845c-46f6-b2c8-bea59c3ac00f');\n",
              "        const dataTable =\n",
              "          await google.colab.kernel.invokeFunction('convertToInteractive',\n",
              "                                                    [key], {});\n",
              "        if (!dataTable) return;\n",
              "\n",
              "        const docLinkHtml = 'Like what you see? Visit the ' +\n",
              "          '<a target=\"_blank\" href=https://colab.research.google.com/notebooks/data_table.ipynb>data table notebook</a>'\n",
              "          + ' to learn more about interactive tables.';\n",
              "        element.innerHTML = '';\n",
              "        dataTable['output_type'] = 'display_data';\n",
              "        await google.colab.output.renderOutput(dataTable, element);\n",
              "        const docLink = document.createElement('div');\n",
              "        docLink.innerHTML = docLinkHtml;\n",
              "        element.appendChild(docLink);\n",
              "      }\n",
              "    </script>\n",
              "  </div>\n",
              "\n",
              "\n",
              "<div id=\"df-1fbc4eb3-870c-4a50-aa66-1342db847e1a\">\n",
              "  <button class=\"colab-df-quickchart\" onclick=\"quickchart('df-1fbc4eb3-870c-4a50-aa66-1342db847e1a')\"\n",
              "            title=\"Suggest charts\"\n",
              "            style=\"display:none;\">\n",
              "\n",
              "<svg xmlns=\"http://www.w3.org/2000/svg\" height=\"24px\"viewBox=\"0 0 24 24\"\n",
              "     width=\"24px\">\n",
              "    <g>\n",
              "        <path d=\"M19 3H5c-1.1 0-2 .9-2 2v14c0 1.1.9 2 2 2h14c1.1 0 2-.9 2-2V5c0-1.1-.9-2-2-2zM9 17H7v-7h2v7zm4 0h-2V7h2v10zm4 0h-2v-4h2v4z\"/>\n",
              "    </g>\n",
              "</svg>\n",
              "  </button>\n",
              "\n",
              "<style>\n",
              "  .colab-df-quickchart {\n",
              "      --bg-color: #E8F0FE;\n",
              "      --fill-color: #1967D2;\n",
              "      --hover-bg-color: #E2EBFA;\n",
              "      --hover-fill-color: #174EA6;\n",
              "      --disabled-fill-color: #AAA;\n",
              "      --disabled-bg-color: #DDD;\n",
              "  }\n",
              "\n",
              "  [theme=dark] .colab-df-quickchart {\n",
              "      --bg-color: #3B4455;\n",
              "      --fill-color: #D2E3FC;\n",
              "      --hover-bg-color: #434B5C;\n",
              "      --hover-fill-color: #FFFFFF;\n",
              "      --disabled-bg-color: #3B4455;\n",
              "      --disabled-fill-color: #666;\n",
              "  }\n",
              "\n",
              "  .colab-df-quickchart {\n",
              "    background-color: var(--bg-color);\n",
              "    border: none;\n",
              "    border-radius: 50%;\n",
              "    cursor: pointer;\n",
              "    display: none;\n",
              "    fill: var(--fill-color);\n",
              "    height: 32px;\n",
              "    padding: 0;\n",
              "    width: 32px;\n",
              "  }\n",
              "\n",
              "  .colab-df-quickchart:hover {\n",
              "    background-color: var(--hover-bg-color);\n",
              "    box-shadow: 0 1px 2px rgba(60, 64, 67, 0.3), 0 1px 3px 1px rgba(60, 64, 67, 0.15);\n",
              "    fill: var(--button-hover-fill-color);\n",
              "  }\n",
              "\n",
              "  .colab-df-quickchart-complete:disabled,\n",
              "  .colab-df-quickchart-complete:disabled:hover {\n",
              "    background-color: var(--disabled-bg-color);\n",
              "    fill: var(--disabled-fill-color);\n",
              "    box-shadow: none;\n",
              "  }\n",
              "\n",
              "  .colab-df-spinner {\n",
              "    border: 2px solid var(--fill-color);\n",
              "    border-color: transparent;\n",
              "    border-bottom-color: var(--fill-color);\n",
              "    animation:\n",
              "      spin 1s steps(1) infinite;\n",
              "  }\n",
              "\n",
              "  @keyframes spin {\n",
              "    0% {\n",
              "      border-color: transparent;\n",
              "      border-bottom-color: var(--fill-color);\n",
              "      border-left-color: var(--fill-color);\n",
              "    }\n",
              "    20% {\n",
              "      border-color: transparent;\n",
              "      border-left-color: var(--fill-color);\n",
              "      border-top-color: var(--fill-color);\n",
              "    }\n",
              "    30% {\n",
              "      border-color: transparent;\n",
              "      border-left-color: var(--fill-color);\n",
              "      border-top-color: var(--fill-color);\n",
              "      border-right-color: var(--fill-color);\n",
              "    }\n",
              "    40% {\n",
              "      border-color: transparent;\n",
              "      border-right-color: var(--fill-color);\n",
              "      border-top-color: var(--fill-color);\n",
              "    }\n",
              "    60% {\n",
              "      border-color: transparent;\n",
              "      border-right-color: var(--fill-color);\n",
              "    }\n",
              "    80% {\n",
              "      border-color: transparent;\n",
              "      border-right-color: var(--fill-color);\n",
              "      border-bottom-color: var(--fill-color);\n",
              "    }\n",
              "    90% {\n",
              "      border-color: transparent;\n",
              "      border-bottom-color: var(--fill-color);\n",
              "    }\n",
              "  }\n",
              "</style>\n",
              "\n",
              "  <script>\n",
              "    async function quickchart(key) {\n",
              "      const quickchartButtonEl =\n",
              "        document.querySelector('#' + key + ' button');\n",
              "      quickchartButtonEl.disabled = true;  // To prevent multiple clicks.\n",
              "      quickchartButtonEl.classList.add('colab-df-spinner');\n",
              "      try {\n",
              "        const charts = await google.colab.kernel.invokeFunction(\n",
              "            'suggestCharts', [key], {});\n",
              "      } catch (error) {\n",
              "        console.error('Error during call to suggestCharts:', error);\n",
              "      }\n",
              "      quickchartButtonEl.classList.remove('colab-df-spinner');\n",
              "      quickchartButtonEl.classList.add('colab-df-quickchart-complete');\n",
              "    }\n",
              "    (() => {\n",
              "      let quickchartButtonEl =\n",
              "        document.querySelector('#df-1fbc4eb3-870c-4a50-aa66-1342db847e1a button');\n",
              "      quickchartButtonEl.style.display =\n",
              "        google.colab.kernel.accessAllowed ? 'block' : 'none';\n",
              "    })();\n",
              "  </script>\n",
              "</div>\n",
              "\n",
              "    </div>\n",
              "  </div>\n"
            ],
            "application/vnd.google.colaboratory.intrinsic+json": {
              "type": "dataframe",
              "variable_name": "df_pib",
              "summary": "{\n  \"name\": \"df_pib\",\n  \"rows\": 513,\n  \"fields\": [\n    {\n      \"column\": \"a\\u00f1o\",\n      \"properties\": {\n        \"dtype\": \"number\",\n        \"std\": 5,\n        \"min\": 2002,\n        \"max\": 2020,\n        \"num_unique_values\": 19,\n        \"samples\": [\n          2002,\n          2007,\n          2013\n        ],\n        \"semantic_type\": \"\",\n        \"description\": \"\"\n      }\n    },\n    {\n      \"column\": \"estado\",\n      \"properties\": {\n        \"dtype\": \"category\",\n        \"num_unique_values\": 27,\n        \"samples\": [\n          \"PI\",\n          \"AL\",\n          \"CE\"\n        ],\n        \"semantic_type\": \"\",\n        \"description\": \"\"\n      }\n    },\n    {\n      \"column\": \"region\",\n      \"properties\": {\n        \"dtype\": \"category\",\n        \"num_unique_values\": 5,\n        \"samples\": [\n          \"Noreste\",\n          \"Centro-Oeste\",\n          \"Sudeste\"\n        ],\n        \"semantic_type\": \"\",\n        \"description\": \"\"\n      }\n    },\n    {\n      \"column\": \"pib\",\n      \"properties\": {\n        \"dtype\": \"number\",\n        \"std\": 309998389077,\n        \"min\": 2392032671,\n        \"max\": 2377638979835,\n        \"num_unique_values\": 513,\n        \"samples\": [\n          124071066407,\n          67076505202,\n          23372308186\n        ],\n        \"semantic_type\": \"\",\n        \"description\": \"\"\n      }\n    },\n    {\n      \"column\": \"impuesto_liquido\",\n      \"properties\": {\n        \"dtype\": \"number\",\n        \"std\": 49708393791,\n        \"min\": 174359460,\n        \"max\": 373027516062,\n        \"num_unique_values\": 513,\n        \"samples\": [\n          17894892081,\n          9052714237,\n          2995523400\n        ],\n        \"semantic_type\": \"\",\n        \"description\": \"\"\n      }\n    },\n    {\n      \"column\": \"va\",\n      \"properties\": {\n        \"dtype\": \"number\",\n        \"std\": 260594871356,\n        \"min\": 2217673211,\n        \"max\": 2014850308310,\n        \"num_unique_values\": 513,\n        \"samples\": [\n          106176174317,\n          58023790964,\n          20376784782\n        ],\n        \"semantic_type\": \"\",\n        \"description\": \"\"\n      }\n    },\n    {\n      \"column\": \"va_agropecuaria\",\n      \"properties\": {\n        \"dtype\": \"number\",\n        \"std\": 9135245613,\n        \"min\": 39602849,\n        \"max\": 56493860969,\n        \"num_unique_values\": 513,\n        \"samples\": [\n          6708709420,\n          207927238,\n          4928541597\n        ],\n        \"semantic_type\": \"\",\n        \"description\": \"\"\n      }\n    },\n    {\n      \"column\": \"va_industria\",\n      \"properties\": {\n        \"dtype\": \"number\",\n        \"std\": 61183586342,\n        \"min\": 225335273,\n        \"max\": 416873007358,\n        \"num_unique_values\": 513,\n        \"samples\": [\n          30290977876,\n          4582968259,\n          3868505120\n        ],\n        \"semantic_type\": \"\",\n        \"description\": \"\"\n      }\n    },\n    {\n      \"column\": \"va_servicios\",\n      \"properties\": {\n        \"dtype\": \"number\",\n        \"std\": 167766740021,\n        \"min\": 773172275,\n        \"max\": 1356311969181,\n        \"num_unique_values\": 513,\n        \"samples\": [\n          50444731729,\n          26294290396,\n          7928649563\n        ],\n        \"semantic_type\": \"\",\n        \"description\": \"\"\n      }\n    },\n    {\n      \"column\": \"va_adespss\",\n      \"properties\": {\n        \"dtype\": \"number\",\n        \"std\": 30795088240,\n        \"min\": 1032382508,\n        \"max\": 197274126779,\n        \"num_unique_values\": 513,\n        \"samples\": [\n          18731755303,\n          26938605071,\n          3651088504\n        ],\n        \"semantic_type\": \"\",\n        \"description\": \"\"\n      }\n    }\n  ]\n}"
            }
          },
          "metadata": {},
          "execution_count": 3
        }
      ]
    },
    {
      "cell_type": "code",
      "source": [
        "df_pib.info()"
      ],
      "metadata": {
        "colab": {
          "base_uri": "https://localhost:8080/"
        },
        "id": "22Rs3hlmM5-l",
        "outputId": "ba98daa0-f6a1-49d6-e942-1efe3ca70e36"
      },
      "execution_count": null,
      "outputs": [
        {
          "output_type": "stream",
          "name": "stdout",
          "text": [
            "<class 'pandas.core.frame.DataFrame'>\n",
            "RangeIndex: 513 entries, 0 to 512\n",
            "Data columns (total 10 columns):\n",
            " #   Column            Non-Null Count  Dtype \n",
            "---  ------            --------------  ----- \n",
            " 0   año               513 non-null    int64 \n",
            " 1   estado            513 non-null    object\n",
            " 2   region            513 non-null    object\n",
            " 3   pib               513 non-null    int64 \n",
            " 4   impuesto_liquido  513 non-null    int64 \n",
            " 5   va                513 non-null    int64 \n",
            " 6   va_agropecuaria   513 non-null    int64 \n",
            " 7   va_industria      513 non-null    int64 \n",
            " 8   va_servicios      513 non-null    int64 \n",
            " 9   va_adespss        513 non-null    int64 \n",
            "dtypes: int64(8), object(2)\n",
            "memory usage: 40.2+ KB\n"
          ]
        }
      ]
    },
    {
      "cell_type": "markdown",
      "source": [
        "Después de visualizar rápidamente los datos que poseemos, vamos a partir hacia los análisis que podemos hacer con estos datos y qué gráficos de composición vamos a utilizar con el fin de presentar este tipo de información.\n",
        "\n",
        "### **Preguntas**\n",
        "\n",
        "1. ¿Cómo está dispuesto el PIB en los estados brasileños en el año de 2020? ¿Es posible notar los estados con mayor y menor participación en el PIB nacional?\n",
        "\n",
        "2. ¿Hubo un cambio significativo en la distribución del PIB por región comparando los valores de 2002 y 2020?\n",
        "\n",
        "3. ¿Cuál es la participación del estado de Minas Gerais en el PIB de todo Brasil en el año de 2020?\n",
        "\n",
        "4. ¿Cómo está distribuido el PIB del estado de Bahía en 2020 separado por impuestos líquidos y los valores agregados brutos de los bienes y servicios producidos?\n",
        "\n",
        "5. ¿Cuál es la evolución anual del PIB del estado de Río de Janeiro entre los años de 2010 a 2020?\n",
        "\n",
        "6. ¿Cómo está distribuido el PIB en los 3 últimos quinquenios (lustro) de los datos (2010, 2015, 2020) en la Región Sur de Brasil divididos por los estados (Paraná, Santa Catarina y Río Grande del Sur)?\n",
        "\n",
        "7. ¿Cómo están distribuidos, en porcentaje, los valores agregados de bienes y servicios descritos en la base de datos en relación a cada región en el año de 2020?\n",
        "\n",
        "8. En el sector agropecuario, ¿cómo están distribuidos sus valores agregados por región dentro del período de la base de datos (2002 - 2020)?\n",
        "\n"
      ],
      "metadata": {
        "id": "wWoSB0AUUQKR"
      }
    },
    {
      "cell_type": "markdown",
      "source": [
        "## **1.3 - Problemas en un gráfico de pizza**\n",
        "\n",
        "---\n",
        "\n"
      ],
      "metadata": {
        "id": "vP-hC2RlZ-2x"
      }
    },
    {
      "cell_type": "markdown",
      "source": [
        "<img src=\"https://raw.githubusercontent.com/ahcamachod/2083-visualizacion-de-datos-composicion-y-relacionamiento/main/pizza.png\" alt=\"inserir alt\" height=\"343\">\n",
        "\n",
        "\n",
        "<font size=2>Fuente: Andrew Abela (Extreme Presentation/Biuwer)</font>\n"
      ],
      "metadata": {
        "id": "OGufZfA4lVnv"
      }
    },
    {
      "cell_type": "markdown",
      "source": [
        "### **Pregunta 1 -** ¿Cómo está dispuesto el PIB en los estados brasileños en el año de 2020? ¿Es posible notar los estados con mayor y menor participación en el PIB nacional?"
      ],
      "metadata": {
        "id": "iSe6OeO-UQKR"
      }
    },
    {
      "cell_type": "markdown",
      "source": [
        "#### Tratando los datos para generar la visualización"
      ],
      "metadata": {
        "id": "Ag4_2fwtUQKR"
      }
    },
    {
      "cell_type": "code",
      "source": [
        "df_pib_2020 = df_pib.copy()\n",
        "df_pib_2020 = df_pib_2020.query('año == 2020').set_index('estado').sort_values('pib',ascending=False)[['pib']]\n",
        "df_pib_2020.head()"
      ],
      "metadata": {
        "colab": {
          "base_uri": "https://localhost:8080/",
          "height": 237
        },
        "id": "c7nHNfJ_M9ol",
        "outputId": "a5a5d9ed-08b8-4c7b-deea-5d96810ef358"
      },
      "execution_count": null,
      "outputs": [
        {
          "output_type": "execute_result",
          "data": {
            "text/plain": [
              "                  pib\n",
              "estado               \n",
              "SP      2377638979835\n",
              "RJ       753823710636\n",
              "MG       682786116407\n",
              "PR       487930593779\n",
              "RS       470941846057"
            ],
            "text/html": [
              "\n",
              "  <div id=\"df-43ddaf7a-b006-4245-9356-f5c5ffec2475\" class=\"colab-df-container\">\n",
              "    <div>\n",
              "<style scoped>\n",
              "    .dataframe tbody tr th:only-of-type {\n",
              "        vertical-align: middle;\n",
              "    }\n",
              "\n",
              "    .dataframe tbody tr th {\n",
              "        vertical-align: top;\n",
              "    }\n",
              "\n",
              "    .dataframe thead th {\n",
              "        text-align: right;\n",
              "    }\n",
              "</style>\n",
              "<table border=\"1\" class=\"dataframe\">\n",
              "  <thead>\n",
              "    <tr style=\"text-align: right;\">\n",
              "      <th></th>\n",
              "      <th>pib</th>\n",
              "    </tr>\n",
              "    <tr>\n",
              "      <th>estado</th>\n",
              "      <th></th>\n",
              "    </tr>\n",
              "  </thead>\n",
              "  <tbody>\n",
              "    <tr>\n",
              "      <th>SP</th>\n",
              "      <td>2377638979835</td>\n",
              "    </tr>\n",
              "    <tr>\n",
              "      <th>RJ</th>\n",
              "      <td>753823710636</td>\n",
              "    </tr>\n",
              "    <tr>\n",
              "      <th>MG</th>\n",
              "      <td>682786116407</td>\n",
              "    </tr>\n",
              "    <tr>\n",
              "      <th>PR</th>\n",
              "      <td>487930593779</td>\n",
              "    </tr>\n",
              "    <tr>\n",
              "      <th>RS</th>\n",
              "      <td>470941846057</td>\n",
              "    </tr>\n",
              "  </tbody>\n",
              "</table>\n",
              "</div>\n",
              "    <div class=\"colab-df-buttons\">\n",
              "\n",
              "  <div class=\"colab-df-container\">\n",
              "    <button class=\"colab-df-convert\" onclick=\"convertToInteractive('df-43ddaf7a-b006-4245-9356-f5c5ffec2475')\"\n",
              "            title=\"Convert this dataframe to an interactive table.\"\n",
              "            style=\"display:none;\">\n",
              "\n",
              "  <svg xmlns=\"http://www.w3.org/2000/svg\" height=\"24px\" viewBox=\"0 -960 960 960\">\n",
              "    <path d=\"M120-120v-720h720v720H120Zm60-500h600v-160H180v160Zm220 220h160v-160H400v160Zm0 220h160v-160H400v160ZM180-400h160v-160H180v160Zm440 0h160v-160H620v160ZM180-180h160v-160H180v160Zm440 0h160v-160H620v160Z\"/>\n",
              "  </svg>\n",
              "    </button>\n",
              "\n",
              "  <style>\n",
              "    .colab-df-container {\n",
              "      display:flex;\n",
              "      gap: 12px;\n",
              "    }\n",
              "\n",
              "    .colab-df-convert {\n",
              "      background-color: #E8F0FE;\n",
              "      border: none;\n",
              "      border-radius: 50%;\n",
              "      cursor: pointer;\n",
              "      display: none;\n",
              "      fill: #1967D2;\n",
              "      height: 32px;\n",
              "      padding: 0 0 0 0;\n",
              "      width: 32px;\n",
              "    }\n",
              "\n",
              "    .colab-df-convert:hover {\n",
              "      background-color: #E2EBFA;\n",
              "      box-shadow: 0px 1px 2px rgba(60, 64, 67, 0.3), 0px 1px 3px 1px rgba(60, 64, 67, 0.15);\n",
              "      fill: #174EA6;\n",
              "    }\n",
              "\n",
              "    .colab-df-buttons div {\n",
              "      margin-bottom: 4px;\n",
              "    }\n",
              "\n",
              "    [theme=dark] .colab-df-convert {\n",
              "      background-color: #3B4455;\n",
              "      fill: #D2E3FC;\n",
              "    }\n",
              "\n",
              "    [theme=dark] .colab-df-convert:hover {\n",
              "      background-color: #434B5C;\n",
              "      box-shadow: 0px 1px 3px 1px rgba(0, 0, 0, 0.15);\n",
              "      filter: drop-shadow(0px 1px 2px rgba(0, 0, 0, 0.3));\n",
              "      fill: #FFFFFF;\n",
              "    }\n",
              "  </style>\n",
              "\n",
              "    <script>\n",
              "      const buttonEl =\n",
              "        document.querySelector('#df-43ddaf7a-b006-4245-9356-f5c5ffec2475 button.colab-df-convert');\n",
              "      buttonEl.style.display =\n",
              "        google.colab.kernel.accessAllowed ? 'block' : 'none';\n",
              "\n",
              "      async function convertToInteractive(key) {\n",
              "        const element = document.querySelector('#df-43ddaf7a-b006-4245-9356-f5c5ffec2475');\n",
              "        const dataTable =\n",
              "          await google.colab.kernel.invokeFunction('convertToInteractive',\n",
              "                                                    [key], {});\n",
              "        if (!dataTable) return;\n",
              "\n",
              "        const docLinkHtml = 'Like what you see? Visit the ' +\n",
              "          '<a target=\"_blank\" href=https://colab.research.google.com/notebooks/data_table.ipynb>data table notebook</a>'\n",
              "          + ' to learn more about interactive tables.';\n",
              "        element.innerHTML = '';\n",
              "        dataTable['output_type'] = 'display_data';\n",
              "        await google.colab.output.renderOutput(dataTable, element);\n",
              "        const docLink = document.createElement('div');\n",
              "        docLink.innerHTML = docLinkHtml;\n",
              "        element.appendChild(docLink);\n",
              "      }\n",
              "    </script>\n",
              "  </div>\n",
              "\n",
              "\n",
              "<div id=\"df-8b3076fc-f860-471f-afaa-1bf1daa06f97\">\n",
              "  <button class=\"colab-df-quickchart\" onclick=\"quickchart('df-8b3076fc-f860-471f-afaa-1bf1daa06f97')\"\n",
              "            title=\"Suggest charts\"\n",
              "            style=\"display:none;\">\n",
              "\n",
              "<svg xmlns=\"http://www.w3.org/2000/svg\" height=\"24px\"viewBox=\"0 0 24 24\"\n",
              "     width=\"24px\">\n",
              "    <g>\n",
              "        <path d=\"M19 3H5c-1.1 0-2 .9-2 2v14c0 1.1.9 2 2 2h14c1.1 0 2-.9 2-2V5c0-1.1-.9-2-2-2zM9 17H7v-7h2v7zm4 0h-2V7h2v10zm4 0h-2v-4h2v4z\"/>\n",
              "    </g>\n",
              "</svg>\n",
              "  </button>\n",
              "\n",
              "<style>\n",
              "  .colab-df-quickchart {\n",
              "      --bg-color: #E8F0FE;\n",
              "      --fill-color: #1967D2;\n",
              "      --hover-bg-color: #E2EBFA;\n",
              "      --hover-fill-color: #174EA6;\n",
              "      --disabled-fill-color: #AAA;\n",
              "      --disabled-bg-color: #DDD;\n",
              "  }\n",
              "\n",
              "  [theme=dark] .colab-df-quickchart {\n",
              "      --bg-color: #3B4455;\n",
              "      --fill-color: #D2E3FC;\n",
              "      --hover-bg-color: #434B5C;\n",
              "      --hover-fill-color: #FFFFFF;\n",
              "      --disabled-bg-color: #3B4455;\n",
              "      --disabled-fill-color: #666;\n",
              "  }\n",
              "\n",
              "  .colab-df-quickchart {\n",
              "    background-color: var(--bg-color);\n",
              "    border: none;\n",
              "    border-radius: 50%;\n",
              "    cursor: pointer;\n",
              "    display: none;\n",
              "    fill: var(--fill-color);\n",
              "    height: 32px;\n",
              "    padding: 0;\n",
              "    width: 32px;\n",
              "  }\n",
              "\n",
              "  .colab-df-quickchart:hover {\n",
              "    background-color: var(--hover-bg-color);\n",
              "    box-shadow: 0 1px 2px rgba(60, 64, 67, 0.3), 0 1px 3px 1px rgba(60, 64, 67, 0.15);\n",
              "    fill: var(--button-hover-fill-color);\n",
              "  }\n",
              "\n",
              "  .colab-df-quickchart-complete:disabled,\n",
              "  .colab-df-quickchart-complete:disabled:hover {\n",
              "    background-color: var(--disabled-bg-color);\n",
              "    fill: var(--disabled-fill-color);\n",
              "    box-shadow: none;\n",
              "  }\n",
              "\n",
              "  .colab-df-spinner {\n",
              "    border: 2px solid var(--fill-color);\n",
              "    border-color: transparent;\n",
              "    border-bottom-color: var(--fill-color);\n",
              "    animation:\n",
              "      spin 1s steps(1) infinite;\n",
              "  }\n",
              "\n",
              "  @keyframes spin {\n",
              "    0% {\n",
              "      border-color: transparent;\n",
              "      border-bottom-color: var(--fill-color);\n",
              "      border-left-color: var(--fill-color);\n",
              "    }\n",
              "    20% {\n",
              "      border-color: transparent;\n",
              "      border-left-color: var(--fill-color);\n",
              "      border-top-color: var(--fill-color);\n",
              "    }\n",
              "    30% {\n",
              "      border-color: transparent;\n",
              "      border-left-color: var(--fill-color);\n",
              "      border-top-color: var(--fill-color);\n",
              "      border-right-color: var(--fill-color);\n",
              "    }\n",
              "    40% {\n",
              "      border-color: transparent;\n",
              "      border-right-color: var(--fill-color);\n",
              "      border-top-color: var(--fill-color);\n",
              "    }\n",
              "    60% {\n",
              "      border-color: transparent;\n",
              "      border-right-color: var(--fill-color);\n",
              "    }\n",
              "    80% {\n",
              "      border-color: transparent;\n",
              "      border-right-color: var(--fill-color);\n",
              "      border-bottom-color: var(--fill-color);\n",
              "    }\n",
              "    90% {\n",
              "      border-color: transparent;\n",
              "      border-bottom-color: var(--fill-color);\n",
              "    }\n",
              "  }\n",
              "</style>\n",
              "\n",
              "  <script>\n",
              "    async function quickchart(key) {\n",
              "      const quickchartButtonEl =\n",
              "        document.querySelector('#' + key + ' button');\n",
              "      quickchartButtonEl.disabled = true;  // To prevent multiple clicks.\n",
              "      quickchartButtonEl.classList.add('colab-df-spinner');\n",
              "      try {\n",
              "        const charts = await google.colab.kernel.invokeFunction(\n",
              "            'suggestCharts', [key], {});\n",
              "      } catch (error) {\n",
              "        console.error('Error during call to suggestCharts:', error);\n",
              "      }\n",
              "      quickchartButtonEl.classList.remove('colab-df-spinner');\n",
              "      quickchartButtonEl.classList.add('colab-df-quickchart-complete');\n",
              "    }\n",
              "    (() => {\n",
              "      let quickchartButtonEl =\n",
              "        document.querySelector('#df-8b3076fc-f860-471f-afaa-1bf1daa06f97 button');\n",
              "      quickchartButtonEl.style.display =\n",
              "        google.colab.kernel.accessAllowed ? 'block' : 'none';\n",
              "    })();\n",
              "  </script>\n",
              "</div>\n",
              "\n",
              "    </div>\n",
              "  </div>\n"
            ],
            "application/vnd.google.colaboratory.intrinsic+json": {
              "type": "dataframe",
              "variable_name": "df_pib_2020",
              "summary": "{\n  \"name\": \"df_pib_2020\",\n  \"rows\": 27,\n  \"fields\": [\n    {\n      \"column\": \"estado\",\n      \"properties\": {\n        \"dtype\": \"string\",\n        \"num_unique_values\": 27,\n        \"samples\": [\n          \"GO\",\n          \"ES\",\n          \"PA\"\n        ],\n        \"semantic_type\": \"\",\n        \"description\": \"\"\n      }\n    },\n    {\n      \"column\": \"pib\",\n      \"properties\": {\n        \"dtype\": \"number\",\n        \"std\": 462706861079,\n        \"min\": 16024275696,\n        \"max\": 2377638979835,\n        \"num_unique_values\": 27,\n        \"samples\": [\n          224126112041,\n          138445922361,\n          215935603795\n        ],\n        \"semantic_type\": \"\",\n        \"description\": \"\"\n      }\n    }\n  ]\n}"
            }
          },
          "metadata": {},
          "execution_count": 5
        }
      ]
    },
    {
      "cell_type": "markdown",
      "source": [
        "#### Generando el gráfico"
      ],
      "metadata": {
        "id": "fbIAlL3aUQKS"
      }
    },
    {
      "cell_type": "code",
      "source": [
        "fig, ax = plt.subplots(figsize=(6,6))\n",
        "\n",
        "ax.pie(data=df_pib_2020, x='pib', labels=df_pib_2020.index, autopct='%.1f%%',\n",
        "       radius=1.1, pctdistance=0.8, textprops={'size':12})\n",
        "\n",
        "plt.suptitle('Producto Interno Bruto (PIB) por estado (2020)', size=18,color=GRIS1)\n",
        "plt.title('En porcentaje (%)', fontsize=14, color= GRIS3, pad=15, x=0.1, y=0.98)\n",
        "\n",
        "ax.text(1.1,0.5,\n",
        "        'Un $\\\\bf{gráfico\\ de\\ pizza}$, logra traer la información de\\n'\n",
        "        'participación en el PIB de forma directa, sin embargo, notamos\\n'\n",
        "        'que el uso de $\\\\bf{muchas\\ porciones}$ dificultan el análisis\\n'\n",
        "        'de datos para los estados con $\\\\bf{menor}$ aporte en el PIB.\\n'\n",
        "        'Además de ser incómodo visualmente para quien lee.\\n\\n'\n",
        "        'Percibimos que los estados de $\\\\bf{Sao\\ Paulo}$, $\\\\bf{Rio\\ de\\ Janeiro}$ y $\\\\bf{Minas\\ Gerais}$\\n'\n",
        "        'poseen $\\\\bf{mayor}$ participación en el PIB nacional, pero, no logramos\\n'\n",
        "        'especificar cuáles son los estados con menor contribución.',\n",
        "        fontsize=12,\n",
        "        linespacing=1.45,\n",
        "        color=GRIS3, transform=ax.transAxes)\n",
        "\n",
        "plt.show()"
      ],
      "metadata": {
        "colab": {
          "base_uri": "https://localhost:8080/",
          "height": 414
        },
        "id": "VPiDWoyYNB6F",
        "outputId": "f2b39a5f-47e1-4a8c-9752-f389dfa9545a"
      },
      "execution_count": null,
      "outputs": [
        {
          "output_type": "display_data",
          "data": {
            "text/plain": [
              "<Figure size 600x600 with 1 Axes>"
            ],
            "image/png": "[encoded data removed]"
          },
          "metadata": {}
        }
      ]
    },
    {
      "cell_type": "markdown",
      "source": [
        "<font color=green size=4> Conclusiones: </font>\n",
        "\n",
        "---\n",
        "\n",
        "Los gráficos de pizza son ideales para mostrar la relación de las partes de un todo. Pero dependiendo de la cantidad de porciones, puede dificultar la visualización de los datos. Sin embargo, podemos aplicarlo cuando presentamos composiciones de datos a través de pequeñas categorías, entre 2 a 5 porciones, o cuando queremos destacar solo 1 valor frente a varias categorías agrupándolas en una sola.\n",
        "\n",
        "¿Cómo podrías pasar la participación de los estados con menores valores de PIB? ¿Sería a través del gráfico de pizza o de otra visualización?"
      ],
      "metadata": {
        "id": "bAc7JYv3UQKS"
      }
    },
    {
      "cell_type": "markdown",
      "source": [
        "## **1.4 - Uso apropiado del gráfico de pizza**\n",
        "\n",
        "---\n",
        "\n",
        "\n"
      ],
      "metadata": {
        "id": "p1X3B0y3pcQz"
      }
    },
    {
      "cell_type": "markdown",
      "source": [
        "### **Pregunta 2 -** ¿Hubo un cambio significativo en la distribución del PIB por región comparando los valores de 2002 y 2020?"
      ],
      "metadata": {
        "id": "mCZ4irjr8kte"
      }
    },
    {
      "cell_type": "markdown",
      "source": [
        "#### Tratando los datos para generar la visualización"
      ],
      "metadata": {
        "id": "GMqN-xAo8ktf"
      }
    },
    {
      "cell_type": "code",
      "source": [
        "df_pib_2002 = df_pib.query('año == 2002')[['region','pib']]\n",
        "df_pib_2020 = df_pib.query('año == 2020')[['region','pib']]\n",
        "\n",
        "df_pib_2002 = df_pib_2002.groupby('region').sum().sort_values('pib',ascending=False)\n",
        "df_pib_2020 = df_pib_2020.groupby('region').sum().sort_values('pib',ascending=False)\n",
        "\n",
        "display(df_pib_2002, df_pib_2020)"
      ],
      "metadata": {
        "colab": {
          "base_uri": "https://localhost:8080/",
          "height": 457
        },
        "id": "xucVzMl9j7qr",
        "outputId": "269dd53f-48ef-4b85-a442-11364ba66d7f"
      },
      "execution_count": null,
      "outputs": [
        {
          "output_type": "display_data",
          "data": {
            "text/plain": [
              "                       pib\n",
              "region                    \n",
              "Sudeste       854309793369\n",
              "Sur           241564819092\n",
              "Noreste       194847656440\n",
              "Centro-Oeste  128162640832\n",
              "Norte          69902366306"
            ],
            "text/html": [
              "\n",
              "  <div id=\"df-c8dbe61b-c517-4f76-ac85-1f8c7f3c0895\" class=\"colab-df-container\">\n",
              "    <div>\n",
              "<style scoped>\n",
              "    .dataframe tbody tr th:only-of-type {\n",
              "        vertical-align: middle;\n",
              "    }\n",
              "\n",
              "    .dataframe tbody tr th {\n",
              "        vertical-align: top;\n",
              "    }\n",
              "\n",
              "    .dataframe thead th {\n",
              "        text-align: right;\n",
              "    }\n",
              "</style>\n",
              "<table border=\"1\" class=\"dataframe\">\n",
              "  <thead>\n",
              "    <tr style=\"text-align: right;\">\n",
              "      <th></th>\n",
              "      <th>pib</th>\n",
              "    </tr>\n",
              "    <tr>\n",
              "      <th>region</th>\n",
              "      <th></th>\n",
              "    </tr>\n",
              "  </thead>\n",
              "  <tbody>\n",
              "    <tr>\n",
              "      <th>Sudeste</th>\n",
              "      <td>854309793369</td>\n",
              "    </tr>\n",
              "    <tr>\n",
              "      <th>Sur</th>\n",
              "      <td>241564819092</td>\n",
              "    </tr>\n",
              "    <tr>\n",
              "      <th>Noreste</th>\n",
              "      <td>194847656440</td>\n",
              "    </tr>\n",
              "    <tr>\n",
              "      <th>Centro-Oeste</th>\n",
              "      <td>128162640832</td>\n",
              "    </tr>\n",
              "    <tr>\n",
              "      <th>Norte</th>\n",
              "      <td>69902366306</td>\n",
              "    </tr>\n",
              "  </tbody>\n",
              "</table>\n",
              "</div>\n",
              "    <div class=\"colab-df-buttons\">\n",
              "\n",
              "  <div class=\"colab-df-container\">\n",
              "    <button class=\"colab-df-convert\" onclick=\"convertToInteractive('df-c8dbe61b-c517-4f76-ac85-1f8c7f3c0895')\"\n",
              "            title=\"Convert this dataframe to an interactive table.\"\n",
              "            style=\"display:none;\">\n",
              "\n",
              "  <svg xmlns=\"http://www.w3.org/2000/svg\" height=\"24px\" viewBox=\"0 -960 960 960\">\n",
              "    <path d=\"M120-120v-720h720v720H120Zm60-500h600v-160H180v160Zm220 220h160v-160H400v160Zm0 220h160v-160H400v160ZM180-400h160v-160H180v160Zm440 0h160v-160H620v160ZM180-180h160v-160H180v160Zm440 0h160v-160H620v160Z\"/>\n",
              "  </svg>\n",
              "    </button>\n",
              "\n",
              "  <style>\n",
              "    .colab-df-container {\n",
              "      display:flex;\n",
              "      gap: 12px;\n",
              "    }\n",
              "\n",
              "    .colab-df-convert {\n",
              "      background-color: #E8F0FE;\n",
              "      border: none;\n",
              "      border-radius: 50%;\n",
              "      cursor: pointer;\n",
              "      display: none;\n",
              "      fill: #1967D2;\n",
              "      height: 32px;\n",
              "      padding: 0 0 0 0;\n",
              "      width: 32px;\n",
              "    }\n",
              "\n",
              "    .colab-df-convert:hover {\n",
              "      background-color: #E2EBFA;\n",
              "      box-shadow: 0px 1px 2px rgba(60, 64, 67, 0.3), 0px 1px 3px 1px rgba(60, 64, 67, 0.15);\n",
              "      fill: #174EA6;\n",
              "    }\n",
              "\n",
              "    .colab-df-buttons div {\n",
              "      margin-bottom: 4px;\n",
              "    }\n",
              "\n",
              "    [theme=dark] .colab-df-convert {\n",
              "      background-color: #3B4455;\n",
              "      fill: #D2E3FC;\n",
              "    }\n",
              "\n",
              "    [theme=dark] .colab-df-convert:hover {\n",
              "      background-color: #434B5C;\n",
              "      box-shadow: 0px 1px 3px 1px rgba(0, 0, 0, 0.15);\n",
              "      filter: drop-shadow(0px 1px 2px rgba(0, 0, 0, 0.3));\n",
              "      fill: #FFFFFF;\n",
              "    }\n",
              "  </style>\n",
              "\n",
              "    <script>\n",
              "      const buttonEl =\n",
              "        document.querySelector('#df-c8dbe61b-c517-4f76-ac85-1f8c7f3c0895 button.colab-df-convert');\n",
              "      buttonEl.style.display =\n",
              "        google.colab.kernel.accessAllowed ? 'block' : 'none';\n",
              "\n",
              "      async function convertToInteractive(key) {\n",
              "        const element = document.querySelector('#df-c8dbe61b-c517-4f76-ac85-1f8c7f3c0895');\n",
              "        const dataTable =\n",
              "          await google.colab.kernel.invokeFunction('convertToInteractive',\n",
              "                                                    [key], {});\n",
              "        if (!dataTable) return;\n",
              "\n",
              "        const docLinkHtml = 'Like what you see? Visit the ' +\n",
              "          '<a target=\"_blank\" href=https://colab.research.google.com/notebooks/data_table.ipynb>data table notebook</a>'\n",
              "          + ' to learn more about interactive tables.';\n",
              "        element.innerHTML = '';\n",
              "        dataTable['output_type'] = 'display_data';\n",
              "        await google.colab.output.renderOutput(dataTable, element);\n",
              "        const docLink = document.createElement('div');\n",
              "        docLink.innerHTML = docLinkHtml;\n",
              "        element.appendChild(docLink);\n",
              "      }\n",
              "    </script>\n",
              "  </div>\n",
              "\n",
              "\n",
              "<div id=\"df-7d1b8185-3c3f-4d9a-8091-1f84e3addc8e\">\n",
              "  <button class=\"colab-df-quickchart\" onclick=\"quickchart('df-7d1b8185-3c3f-4d9a-8091-1f84e3addc8e')\"\n",
              "            title=\"Suggest charts\"\n",
              "            style=\"display:none;\">\n",
              "\n",
              "<svg xmlns=\"http://www.w3.org/2000/svg\" height=\"24px\"viewBox=\"0 0 24 24\"\n",
              "     width=\"24px\">\n",
              "    <g>\n",
              "        <path d=\"M19 3H5c-1.1 0-2 .9-2 2v14c0 1.1.9 2 2 2h14c1.1 0 2-.9 2-2V5c0-1.1-.9-2-2-2zM9 17H7v-7h2v7zm4 0h-2V7h2v10zm4 0h-2v-4h2v4z\"/>\n",
              "    </g>\n",
              "</svg>\n",
              "  </button>\n",
              "\n",
              "<style>\n",
              "  .colab-df-quickchart {\n",
              "      --bg-color: #E8F0FE;\n",
              "      --fill-color: #1967D2;\n",
              "      --hover-bg-color: #E2EBFA;\n",
              "      --hover-fill-color: #174EA6;\n",
              "      --disabled-fill-color: #AAA;\n",
              "      --disabled-bg-color: #DDD;\n",
              "  }\n",
              "\n",
              "  [theme=dark] .colab-df-quickchart {\n",
              "      --bg-color: #3B4455;\n",
              "      --fill-color: #D2E3FC;\n",
              "      --hover-bg-color: #434B5C;\n",
              "      --hover-fill-color: #FFFFFF;\n",
              "      --disabled-bg-color: #3B4455;\n",
              "      --disabled-fill-color: #666;\n",
              "  }\n",
              "\n",
              "  .colab-df-quickchart {\n",
              "    background-color: var(--bg-color);\n",
              "    border: none;\n",
              "    border-radius: 50%;\n",
              "    cursor: pointer;\n",
              "    display: none;\n",
              "    fill: var(--fill-color);\n",
              "    height: 32px;\n",
              "    padding: 0;\n",
              "    width: 32px;\n",
              "  }\n",
              "\n",
              "  .colab-df-quickchart:hover {\n",
              "    background-color: var(--hover-bg-color);\n",
              "    box-shadow: 0 1px 2px rgba(60, 64, 67, 0.3), 0 1px 3px 1px rgba(60, 64, 67, 0.15);\n",
              "    fill: var(--button-hover-fill-color);\n",
              "  }\n",
              "\n",
              "  .colab-df-quickchart-complete:disabled,\n",
              "  .colab-df-quickchart-complete:disabled:hover {\n",
              "    background-color: var(--disabled-bg-color);\n",
              "    fill: var(--disabled-fill-color);\n",
              "    box-shadow: none;\n",
              "  }\n",
              "\n",
              "  .colab-df-spinner {\n",
              "    border: 2px solid var(--fill-color);\n",
              "    border-color: transparent;\n",
              "    border-bottom-color: var(--fill-color);\n",
              "    animation:\n",
              "      spin 1s steps(1) infinite;\n",
              "  }\n",
              "\n",
              "  @keyframes spin {\n",
              "    0% {\n",
              "      border-color: transparent;\n",
              "      border-bottom-color: var(--fill-color);\n",
              "      border-left-color: var(--fill-color);\n",
              "    }\n",
              "    20% {\n",
              "      border-color: transparent;\n",
              "      border-left-color: var(--fill-color);\n",
              "      border-top-color: var(--fill-color);\n",
              "    }\n",
              "    30% {\n",
              "      border-color: transparent;\n",
              "      border-left-color: var(--fill-color);\n",
              "      border-top-color: var(--fill-color);\n",
              "      border-right-color: var(--fill-color);\n",
              "    }\n",
              "    40% {\n",
              "      border-color: transparent;\n",
              "      border-right-color: var(--fill-color);\n",
              "      border-top-color: var(--fill-color);\n",
              "    }\n",
              "    60% {\n",
              "      border-color: transparent;\n",
              "      border-right-color: var(--fill-color);\n",
              "    }\n",
              "    80% {\n",
              "      border-color: transparent;\n",
              "      border-right-color: var(--fill-color);\n",
              "      border-bottom-color: var(--fill-color);\n",
              "    }\n",
              "    90% {\n",
              "      border-color: transparent;\n",
              "      border-bottom-color: var(--fill-color);\n",
              "    }\n",
              "  }\n",
              "</style>\n",
              "\n",
              "  <script>\n",
              "    async function quickchart(key) {\n",
              "      const quickchartButtonEl =\n",
              "        document.querySelector('#' + key + ' button');\n",
              "      quickchartButtonEl.disabled = true;  // To prevent multiple clicks.\n",
              "      quickchartButtonEl.classList.add('colab-df-spinner');\n",
              "      try {\n",
              "        const charts = await google.colab.kernel.invokeFunction(\n",
              "            'suggestCharts', [key], {});\n",
              "      } catch (error) {\n",
              "        console.error('Error during call to suggestCharts:', error);\n",
              "      }\n",
              "      quickchartButtonEl.classList.remove('colab-df-spinner');\n",
              "      quickchartButtonEl.classList.add('colab-df-quickchart-complete');\n",
              "    }\n",
              "    (() => {\n",
              "      let quickchartButtonEl =\n",
              "        document.querySelector('#df-7d1b8185-3c3f-4d9a-8091-1f84e3addc8e button');\n",
              "      quickchartButtonEl.style.display =\n",
              "        google.colab.kernel.accessAllowed ? 'block' : 'none';\n",
              "    })();\n",
              "  </script>\n",
              "</div>\n",
              "\n",
              "  <div id=\"id_f698c836-37b9-4cf2-8389-503f6540d527\">\n",
              "    <style>\n",
              "      .colab-df-generate {\n",
              "        background-color: #E8F0FE;\n",
              "        border: none;\n",
              "        border-radius: 50%;\n",
              "        cursor: pointer;\n",
              "        display: none;\n",
              "        fill: #1967D2;\n",
              "        height: 32px;\n",
              "        padding: 0 0 0 0;\n",
              "        width: 32px;\n",
              "      }\n",
              "\n",
              "      .colab-df-generate:hover {\n",
              "        background-color: #E2EBFA;\n",
              "        box-shadow: 0px 1px 2px rgba(60, 64, 67, 0.3), 0px 1px 3px 1px rgba(60, 64, 67, 0.15);\n",
              "        fill: #174EA6;\n",
              "      }\n",
              "\n",
              "      [theme=dark] .colab-df-generate {\n",
              "        background-color: #3B4455;\n",
              "        fill: #D2E3FC;\n",
              "      }\n",
              "\n",
              "      [theme=dark] .colab-df-generate:hover {\n",
              "        background-color: #434B5C;\n",
              "        box-shadow: 0px 1px 3px 1px rgba(0, 0, 0, 0.15);\n",
              "        filter: drop-shadow(0px 1px 2px rgba(0, 0, 0, 0.3));\n",
              "        fill: #FFFFFF;\n",
              "      }\n",
              "    </style>\n",
              "    <button class=\"colab-df-generate\" onclick=\"generateWithVariable('df_pib_2002')\"\n",
              "            title=\"Generate code using this dataframe.\"\n",
              "            style=\"display:none;\">\n",
              "\n",
              "  <svg xmlns=\"http://www.w3.org/2000/svg\" height=\"24px\"viewBox=\"0 0 24 24\"\n",
              "       width=\"24px\">\n",
              "    <path d=\"M7,19H8.4L18.45,9,17,7.55,7,17.6ZM5,21V16.75L18.45,3.32a2,2,0,0,1,2.83,0l1.4,1.43a1.91,1.91,0,0,1,.58,1.4,1.91,1.91,0,0,1-.58,1.4L9.25,21ZM18.45,9,17,7.55Zm-12,3A5.31,5.31,0,0,0,4.9,8.1,5.31,5.31,0,0,0,1,6.5,5.31,5.31,0,0,0,4.9,4.9,5.31,5.31,0,0,0,6.5,1,5.31,5.31,0,0,0,8.1,4.9,5.31,5.31,0,0,0,12,6.5,5.46,5.46,0,0,0,6.5,12Z\"/>\n",
              "  </svg>\n",
              "    </button>\n",
              "    <script>\n",
              "      (() => {\n",
              "      const buttonEl =\n",
              "        document.querySelector('#id_f698c836-37b9-4cf2-8389-503f6540d527 button.colab-df-generate');\n",
              "      buttonEl.style.display =\n",
              "        google.colab.kernel.accessAllowed ? 'block' : 'none';\n",
              "\n",
              "      buttonEl.onclick = () => {\n",
              "        google.colab.notebook.generateWithVariable('df_pib_2002');\n",
              "      }\n",
              "      })();\n",
              "    </script>\n",
              "  </div>\n",
              "\n",
              "    </div>\n",
              "  </div>\n"
            ],
            "application/vnd.google.colaboratory.intrinsic+json": {
              "type": "dataframe",
              "variable_name": "df_pib_2002",
              "summary": "{\n  \"name\": \"df_pib_2002\",\n  \"rows\": 5,\n  \"fields\": [\n    {\n      \"column\": \"region\",\n      \"properties\": {\n        \"dtype\": \"string\",\n        \"num_unique_values\": 5,\n        \"samples\": [\n          \"Sur\",\n          \"Norte\",\n          \"Noreste\"\n        ],\n        \"semantic_type\": \"\",\n        \"description\": \"\"\n      }\n    },\n    {\n      \"column\": \"pib\",\n      \"properties\": {\n        \"dtype\": \"number\",\n        \"std\": 317875324125,\n        \"min\": 69902366306,\n        \"max\": 854309793369,\n        \"num_unique_values\": 5,\n        \"samples\": [\n          241564819092,\n          69902366306,\n          194847656440\n        ],\n        \"semantic_type\": \"\",\n        \"description\": \"\"\n      }\n    }\n  ]\n}"
            }
          },
          "metadata": {}
        },
        {
          "output_type": "display_data",
          "data": {
            "text/plain": [
              "                        pib\n",
              "region                     \n",
              "Sudeste       3952694729239\n",
              "Sur           1308147455374\n",
              "Noreste       1079331030689\n",
              "Centro-Oeste   791250735824\n",
              "Norte          478173048893"
            ],
            "text/html": [
              "\n",
              "  <div id=\"df-6201fa7a-8a31-45cc-b6b2-753602f70ba4\" class=\"colab-df-container\">\n",
              "    <div>\n",
              "<style scoped>\n",
              "    .dataframe tbody tr th:only-of-type {\n",
              "        vertical-align: middle;\n",
              "    }\n",
              "\n",
              "    .dataframe tbody tr th {\n",
              "        vertical-align: top;\n",
              "    }\n",
              "\n",
              "    .dataframe thead th {\n",
              "        text-align: right;\n",
              "    }\n",
              "</style>\n",
              "<table border=\"1\" class=\"dataframe\">\n",
              "  <thead>\n",
              "    <tr style=\"text-align: right;\">\n",
              "      <th></th>\n",
              "      <th>pib</th>\n",
              "    </tr>\n",
              "    <tr>\n",
              "      <th>region</th>\n",
              "      <th></th>\n",
              "    </tr>\n",
              "  </thead>\n",
              "  <tbody>\n",
              "    <tr>\n",
              "      <th>Sudeste</th>\n",
              "      <td>3952694729239</td>\n",
              "    </tr>\n",
              "    <tr>\n",
              "      <th>Sur</th>\n",
              "      <td>1308147455374</td>\n",
              "    </tr>\n",
              "    <tr>\n",
              "      <th>Noreste</th>\n",
              "      <td>1079331030689</td>\n",
              "    </tr>\n",
              "    <tr>\n",
              "      <th>Centro-Oeste</th>\n",
              "      <td>791250735824</td>\n",
              "    </tr>\n",
              "    <tr>\n",
              "      <th>Norte</th>\n",
              "      <td>478173048893</td>\n",
              "    </tr>\n",
              "  </tbody>\n",
              "</table>\n",
              "</div>\n",
              "    <div class=\"colab-df-buttons\">\n",
              "\n",
              "  <div class=\"colab-df-container\">\n",
              "    <button class=\"colab-df-convert\" onclick=\"convertToInteractive('df-6201fa7a-8a31-45cc-b6b2-753602f70ba4')\"\n",
              "            title=\"Convert this dataframe to an interactive table.\"\n",
              "            style=\"display:none;\">\n",
              "\n",
              "  <svg xmlns=\"http://www.w3.org/2000/svg\" height=\"24px\" viewBox=\"0 -960 960 960\">\n",
              "    <path d=\"M120-120v-720h720v720H120Zm60-500h600v-160H180v160Zm220 220h160v-160H400v160Zm0 220h160v-160H400v160ZM180-400h160v-160H180v160Zm440 0h160v-160H620v160ZM180-180h160v-160H180v160Zm440 0h160v-160H620v160Z\"/>\n",
              "  </svg>\n",
              "    </button>\n",
              "\n",
              "  <style>\n",
              "    .colab-df-container {\n",
              "      display:flex;\n",
              "      gap: 12px;\n",
              "    }\n",
              "\n",
              "    .colab-df-convert {\n",
              "      background-color: #E8F0FE;\n",
              "      border: none;\n",
              "      border-radius: 50%;\n",
              "      cursor: pointer;\n",
              "      display: none;\n",
              "      fill: #1967D2;\n",
              "      height: 32px;\n",
              "      padding: 0 0 0 0;\n",
              "      width: 32px;\n",
              "    }\n",
              "\n",
              "    .colab-df-convert:hover {\n",
              "      background-color: #E2EBFA;\n",
              "      box-shadow: 0px 1px 2px rgba(60, 64, 67, 0.3), 0px 1px 3px 1px rgba(60, 64, 67, 0.15);\n",
              "      fill: #174EA6;\n",
              "    }\n",
              "\n",
              "    .colab-df-buttons div {\n",
              "      margin-bottom: 4px;\n",
              "    }\n",
              "\n",
              "    [theme=dark] .colab-df-convert {\n",
              "      background-color: #3B4455;\n",
              "      fill: #D2E3FC;\n",
              "    }\n",
              "\n",
              "    [theme=dark] .colab-df-convert:hover {\n",
              "      background-color: #434B5C;\n",
              "      box-shadow: 0px 1px 3px 1px rgba(0, 0, 0, 0.15);\n",
              "      filter: drop-shadow(0px 1px 2px rgba(0, 0, 0, 0.3));\n",
              "      fill: #FFFFFF;\n",
              "    }\n",
              "  </style>\n",
              "\n",
              "    <script>\n",
              "      const buttonEl =\n",
              "        document.querySelector('#df-6201fa7a-8a31-45cc-b6b2-753602f70ba4 button.colab-df-convert');\n",
              "      buttonEl.style.display =\n",
              "        google.colab.kernel.accessAllowed ? 'block' : 'none';\n",
              "\n",
              "      async function convertToInteractive(key) {\n",
              "        const element = document.querySelector('#df-6201fa7a-8a31-45cc-b6b2-753602f70ba4');\n",
              "        const dataTable =\n",
              "          await google.colab.kernel.invokeFunction('convertToInteractive',\n",
              "                                                    [key], {});\n",
              "        if (!dataTable) return;\n",
              "\n",
              "        const docLinkHtml = 'Like what you see? Visit the ' +\n",
              "          '<a target=\"_blank\" href=https://colab.research.google.com/notebooks/data_table.ipynb>data table notebook</a>'\n",
              "          + ' to learn more about interactive tables.';\n",
              "        element.innerHTML = '';\n",
              "        dataTable['output_type'] = 'display_data';\n",
              "        await google.colab.output.renderOutput(dataTable, element);\n",
              "        const docLink = document.createElement('div');\n",
              "        docLink.innerHTML = docLinkHtml;\n",
              "        element.appendChild(docLink);\n",
              "      }\n",
              "    </script>\n",
              "  </div>\n",
              "\n",
              "\n",
              "<div id=\"df-28f26b43-b730-4b2d-9c57-0df2492e96e2\">\n",
              "  <button class=\"colab-df-quickchart\" onclick=\"quickchart('df-28f26b43-b730-4b2d-9c57-0df2492e96e2')\"\n",
              "            title=\"Suggest charts\"\n",
              "            style=\"display:none;\">\n",
              "\n",
              "<svg xmlns=\"http://www.w3.org/2000/svg\" height=\"24px\"viewBox=\"0 0 24 24\"\n",
              "     width=\"24px\">\n",
              "    <g>\n",
              "        <path d=\"M19 3H5c-1.1 0-2 .9-2 2v14c0 1.1.9 2 2 2h14c1.1 0 2-.9 2-2V5c0-1.1-.9-2-2-2zM9 17H7v-7h2v7zm4 0h-2V7h2v10zm4 0h-2v-4h2v4z\"/>\n",
              "    </g>\n",
              "</svg>\n",
              "  </button>\n",
              "\n",
              "<style>\n",
              "  .colab-df-quickchart {\n",
              "      --bg-color: #E8F0FE;\n",
              "      --fill-color: #1967D2;\n",
              "      --hover-bg-color: #E2EBFA;\n",
              "      --hover-fill-color: #174EA6;\n",
              "      --disabled-fill-color: #AAA;\n",
              "      --disabled-bg-color: #DDD;\n",
              "  }\n",
              "\n",
              "  [theme=dark] .colab-df-quickchart {\n",
              "      --bg-color: #3B4455;\n",
              "      --fill-color: #D2E3FC;\n",
              "      --hover-bg-color: #434B5C;\n",
              "      --hover-fill-color: #FFFFFF;\n",
              "      --disabled-bg-color: #3B4455;\n",
              "      --disabled-fill-color: #666;\n",
              "  }\n",
              "\n",
              "  .colab-df-quickchart {\n",
              "    background-color: var(--bg-color);\n",
              "    border: none;\n",
              "    border-radius: 50%;\n",
              "    cursor: pointer;\n",
              "    display: none;\n",
              "    fill: var(--fill-color);\n",
              "    height: 32px;\n",
              "    padding: 0;\n",
              "    width: 32px;\n",
              "  }\n",
              "\n",
              "  .colab-df-quickchart:hover {\n",
              "    background-color: var(--hover-bg-color);\n",
              "    box-shadow: 0 1px 2px rgba(60, 64, 67, 0.3), 0 1px 3px 1px rgba(60, 64, 67, 0.15);\n",
              "    fill: var(--button-hover-fill-color);\n",
              "  }\n",
              "\n",
              "  .colab-df-quickchart-complete:disabled,\n",
              "  .colab-df-quickchart-complete:disabled:hover {\n",
              "    background-color: var(--disabled-bg-color);\n",
              "    fill: var(--disabled-fill-color);\n",
              "    box-shadow: none;\n",
              "  }\n",
              "\n",
              "  .colab-df-spinner {\n",
              "    border: 2px solid var(--fill-color);\n",
              "    border-color: transparent;\n",
              "    border-bottom-color: var(--fill-color);\n",
              "    animation:\n",
              "      spin 1s steps(1) infinite;\n",
              "  }\n",
              "\n",
              "  @keyframes spin {\n",
              "    0% {\n",
              "      border-color: transparent;\n",
              "      border-bottom-color: var(--fill-color);\n",
              "      border-left-color: var(--fill-color);\n",
              "    }\n",
              "    20% {\n",
              "      border-color: transparent;\n",
              "      border-left-color: var(--fill-color);\n",
              "      border-top-color: var(--fill-color);\n",
              "    }\n",
              "    30% {\n",
              "      border-color: transparent;\n",
              "      border-left-color: var(--fill-color);\n",
              "      border-top-color: var(--fill-color);\n",
              "      border-right-color: var(--fill-color);\n",
              "    }\n",
              "    40% {\n",
              "      border-color: transparent;\n",
              "      border-right-color: var(--fill-color);\n",
              "      border-top-color: var(--fill-color);\n",
              "    }\n",
              "    60% {\n",
              "      border-color: transparent;\n",
              "      border-right-color: var(--fill-color);\n",
              "    }\n",
              "    80% {\n",
              "      border-color: transparent;\n",
              "      border-right-color: var(--fill-color);\n",
              "      border-bottom-color: var(--fill-color);\n",
              "    }\n",
              "    90% {\n",
              "      border-color: transparent;\n",
              "      border-bottom-color: var(--fill-color);\n",
              "    }\n",
              "  }\n",
              "</style>\n",
              "\n",
              "  <script>\n",
              "    async function quickchart(key) {\n",
              "      const quickchartButtonEl =\n",
              "        document.querySelector('#' + key + ' button');\n",
              "      quickchartButtonEl.disabled = true;  // To prevent multiple clicks.\n",
              "      quickchartButtonEl.classList.add('colab-df-spinner');\n",
              "      try {\n",
              "        const charts = await google.colab.kernel.invokeFunction(\n",
              "            'suggestCharts', [key], {});\n",
              "      } catch (error) {\n",
              "        console.error('Error during call to suggestCharts:', error);\n",
              "      }\n",
              "      quickchartButtonEl.classList.remove('colab-df-spinner');\n",
              "      quickchartButtonEl.classList.add('colab-df-quickchart-complete');\n",
              "    }\n",
              "    (() => {\n",
              "      let quickchartButtonEl =\n",
              "        document.querySelector('#df-28f26b43-b730-4b2d-9c57-0df2492e96e2 button');\n",
              "      quickchartButtonEl.style.display =\n",
              "        google.colab.kernel.accessAllowed ? 'block' : 'none';\n",
              "    })();\n",
              "  </script>\n",
              "</div>\n",
              "\n",
              "  <div id=\"id_ee4d1063-463b-4a17-96c1-7b2863ade6df\">\n",
              "    <style>\n",
              "      .colab-df-generate {\n",
              "        background-color: #E8F0FE;\n",
              "        border: none;\n",
              "        border-radius: 50%;\n",
              "        cursor: pointer;\n",
              "        display: none;\n",
              "        fill: #1967D2;\n",
              "        height: 32px;\n",
              "        padding: 0 0 0 0;\n",
              "        width: 32px;\n",
              "      }\n",
              "\n",
              "      .colab-df-generate:hover {\n",
              "        background-color: #E2EBFA;\n",
              "        box-shadow: 0px 1px 2px rgba(60, 64, 67, 0.3), 0px 1px 3px 1px rgba(60, 64, 67, 0.15);\n",
              "        fill: #174EA6;\n",
              "      }\n",
              "\n",
              "      [theme=dark] .colab-df-generate {\n",
              "        background-color: #3B4455;\n",
              "        fill: #D2E3FC;\n",
              "      }\n",
              "\n",
              "      [theme=dark] .colab-df-generate:hover {\n",
              "        background-color: #434B5C;\n",
              "        box-shadow: 0px 1px 3px 1px rgba(0, 0, 0, 0.15);\n",
              "        filter: drop-shadow(0px 1px 2px rgba(0, 0, 0, 0.3));\n",
              "        fill: #FFFFFF;\n",
              "      }\n",
              "    </style>\n",
              "    <button class=\"colab-df-generate\" onclick=\"generateWithVariable('df_pib_2020')\"\n",
              "            title=\"Generate code using this dataframe.\"\n",
              "            style=\"display:none;\">\n",
              "\n",
              "  <svg xmlns=\"http://www.w3.org/2000/svg\" height=\"24px\"viewBox=\"0 0 24 24\"\n",
              "       width=\"24px\">\n",
              "    <path d=\"M7,19H8.4L18.45,9,17,7.55,7,17.6ZM5,21V16.75L18.45,3.32a2,2,0,0,1,2.83,0l1.4,1.43a1.91,1.91,0,0,1,.58,1.4,1.91,1.91,0,0,1-.58,1.4L9.25,21ZM18.45,9,17,7.55Zm-12,3A5.31,5.31,0,0,0,4.9,8.1,5.31,5.31,0,0,0,1,6.5,5.31,5.31,0,0,0,4.9,4.9,5.31,5.31,0,0,0,6.5,1,5.31,5.31,0,0,0,8.1,4.9,5.31,5.31,0,0,0,12,6.5,5.46,5.46,0,0,0,6.5,12Z\"/>\n",
              "  </svg>\n",
              "    </button>\n",
              "    <script>\n",
              "      (() => {\n",
              "      const buttonEl =\n",
              "        document.querySelector('#id_ee4d1063-463b-4a17-96c1-7b2863ade6df button.colab-df-generate');\n",
              "      buttonEl.style.display =\n",
              "        google.colab.kernel.accessAllowed ? 'block' : 'none';\n",
              "\n",
              "      buttonEl.onclick = () => {\n",
              "        google.colab.notebook.generateWithVariable('df_pib_2020');\n",
              "      }\n",
              "      })();\n",
              "    </script>\n",
              "  </div>\n",
              "\n",
              "    </div>\n",
              "  </div>\n"
            ],
            "application/vnd.google.colaboratory.intrinsic+json": {
              "type": "dataframe",
              "variable_name": "df_pib_2020",
              "summary": "{\n  \"name\": \"df_pib_2020\",\n  \"rows\": 5,\n  \"fields\": [\n    {\n      \"column\": \"region\",\n      \"properties\": {\n        \"dtype\": \"string\",\n        \"num_unique_values\": 5,\n        \"samples\": [\n          \"Sur\",\n          \"Norte\",\n          \"Noreste\"\n        ],\n        \"semantic_type\": \"\",\n        \"description\": \"\"\n      }\n    },\n    {\n      \"column\": \"pib\",\n      \"properties\": {\n        \"dtype\": \"number\",\n        \"std\": 1394052971774,\n        \"min\": 478173048893,\n        \"max\": 3952694729239,\n        \"num_unique_values\": 5,\n        \"samples\": [\n          1308147455374,\n          478173048893,\n          1079331030689\n        ],\n        \"semantic_type\": \"\",\n        \"description\": \"\"\n      }\n    }\n  ]\n}"
            }
          },
          "metadata": {}
        }
      ]
    },
    {
      "cell_type": "markdown",
      "source": [
        "#### Generando el gráfico"
      ],
      "metadata": {
        "id": "-WHWfNjJ8ktf"
      }
    },
    {
      "cell_type": "code",
      "source": [
        "fig, axs = plt.subplots(1,2,figsize=(14,6))\n",
        "\n",
        "colores=[AZUL3,NARANJA1,AZUL5,VERDE1,GRIS5]\n",
        "\n",
        "plt.suptitle('Producto Interno Bruto (PIB) por región',fontsize=18,\n",
        "             color=GRIS1, ha='right',x=0.5, y=1.05)\n",
        "\n",
        "# Gráfico 1\n",
        "ptc,text, _ = axs[0].pie(data=df_pib_2002, x='pib', labels = df_pib_2002.index,\n",
        "                         autopct='%.1f%%',pctdistance=0.6,\n",
        "                         textprops={'size':12,'fontweight':'bold','color':BLANCO},\n",
        "                         colors=colores)\n",
        "axs[0].annotate('En 2002',xy=(50,350),size=12, xycoords='axes points',\n",
        "                bbox=dict(boxstyle='round',fc=BLANCO,ec=GRIS3))\n",
        "\n",
        "for i,p in enumerate(ptc):\n",
        "  text[i].set_color(p.get_facecolor())\n",
        "\n",
        "# Gráfico 2\n",
        "ptc,text, _ = axs[1].pie(data=df_pib_2020, x='pib', labels = df_pib_2020.index,\n",
        "                         autopct='%.1f%%',pctdistance=0.6,\n",
        "                         textprops={'size':12,'fontweight':'bold','color':BLANCO},\n",
        "                         colors=colores)\n",
        "axs[1].annotate('En 2020',xy=(50,350),size=12, xycoords='axes points',\n",
        "                bbox=dict(boxstyle='round',fc=BLANCO,ec=GRIS3))\n",
        "\n",
        "for i,p in enumerate(ptc):\n",
        "  text[i].set_color(p.get_facecolor())\n",
        "\n",
        "# Anotación de una conclusión\n",
        "\n",
        "axs[0].annotate('La región Sudeste fue la única que\\n redujo su participación en el PIB.',\n",
        "                xy=(180,245),xycoords='axes points', xytext=(280,295),\n",
        "                textcoords='axes points',\n",
        "                bbox=dict(boxstyle='round',fc=BLANCO,ec=GRIS3),\n",
        "                size=10, arrowprops=dict(arrowstyle='->',fc=GRIS1,\n",
        "                connectionstyle='arc,angleA=-90,angleB=0,armA=30,armB=30,rad=5'))\n",
        "\n",
        "axs[1].annotate('\\n\\n',\n",
        "                xy=(140,245),xycoords='axes points', xytext=(-50,295),\n",
        "                textcoords='axes points',\n",
        "                size=10, arrowprops=dict(arrowstyle='->',fc=GRIS1,\n",
        "                connectionstyle='arc,angleA=-90,angleB=0,armA=30,armB=-30,rad=5'))\n",
        "\n",
        "plt.show()"
      ],
      "metadata": {
        "colab": {
          "base_uri": "https://localhost:8080/",
          "height": 487
        },
        "id": "_JCY03tRj1Cy",
        "outputId": "47ac2ea6-5f41-4084-883f-32c14926bc37"
      },
      "execution_count": null,
      "outputs": [
        {
          "output_type": "display_data",
          "data": {
            "text/plain": [
              "<Figure size 1400x600 with 2 Axes>"
            ],
            "image/png": "[encoded data removed]"
          },
          "metadata": {}
        }
      ]
    },
    {
      "cell_type": "markdown",
      "source": [
        "<font color=green size=4> Conclusiones: </font>\n",
        "\n",
        "---\n",
        "\n",
        "Aquí notamos un uso correcto del gráfico de pizza que trajo 5 porciones en total. Hicimos una comparación entre dos períodos por separado, dado que el gráfico de pizza representa composiciones estáticas.\n",
        "\n",
        "Podemos notar que solo la región Sudeste retrocedió en participación en el PIB en el período que abarca 18 años (2002 - 2020). Es decir, fue posible notar que el PIB fue más distribuido. Podemos percibir este comportamiento sin siquiera necesitar analizar los datos absolutos, solo los relativos.\n",
        "\n",
        "Como sugerencia, podemos probar añadiendo los valores absolutos del PIB de las regiones o hacer este análisis en una región en específico, como por ejemplo, la región Sur de Brasil (solo 3 estados)."
      ],
      "metadata": {
        "id": "OT73-kb78ktf"
      }
    },
    {
      "cell_type": "markdown",
      "source": [
        "## **1.5 - Gráfico de dona**\n",
        "\n",
        "---\n",
        "\n"
      ],
      "metadata": {
        "id": "juIMc2NawuH3"
      }
    },
    {
      "cell_type": "markdown",
      "source": [
        "### **Pregunta 3 -** ¿Cuál es la participación del estado de Minas Gerais en el PIB de todo Brasil en el año de 2020?"
      ],
      "metadata": {
        "id": "VrKVQK1zZfRd"
      }
    },
    {
      "cell_type": "markdown",
      "source": [
        "#### Tratando los datos para generar la visualización"
      ],
      "metadata": {
        "id": "Srsoie6mZfRd"
      }
    },
    {
      "cell_type": "code",
      "source": [
        "df_mg_2020 = df_pib.query('año == 2020')[['estado','pib']]\n",
        "df_mg_2020.loc[df_mg_2020['estado'] == 'MG', 'estado'] = 'Minas Gerais'\n",
        "df_mg_2020.loc[df_mg_2020['estado'] != 'Minas Gerais', 'estado'] = 'Otros estados'\n",
        "\n",
        "df_mg_2020 = df_mg_2020.groupby('estado').sum()\n",
        "df_mg_2020"
      ],
      "metadata": {
        "colab": {
          "base_uri": "https://localhost:8080/",
          "height": 143
        },
        "id": "3KvGvijInahZ",
        "outputId": "b50d4bab-c4a4-4b70-9600-703a3a5a4e5e"
      },
      "execution_count": null,
      "outputs": [
        {
          "output_type": "execute_result",
          "data": {
            "text/plain": [
              "                         pib\n",
              "estado                      \n",
              "Minas Gerais    682786116407\n",
              "Otros estados  6926810883612"
            ],
            "text/html": [
              "\n",
              "  <div id=\"df-f436d293-7bed-498b-bc57-7e03d5d977c9\" class=\"colab-df-container\">\n",
              "    <div>\n",
              "<style scoped>\n",
              "    .dataframe tbody tr th:only-of-type {\n",
              "        vertical-align: middle;\n",
              "    }\n",
              "\n",
              "    .dataframe tbody tr th {\n",
              "        vertical-align: top;\n",
              "    }\n",
              "\n",
              "    .dataframe thead th {\n",
              "        text-align: right;\n",
              "    }\n",
              "</style>\n",
              "<table border=\"1\" class=\"dataframe\">\n",
              "  <thead>\n",
              "    <tr style=\"text-align: right;\">\n",
              "      <th></th>\n",
              "      <th>pib</th>\n",
              "    </tr>\n",
              "    <tr>\n",
              "      <th>estado</th>\n",
              "      <th></th>\n",
              "    </tr>\n",
              "  </thead>\n",
              "  <tbody>\n",
              "    <tr>\n",
              "      <th>Minas Gerais</th>\n",
              "      <td>682786116407</td>\n",
              "    </tr>\n",
              "    <tr>\n",
              "      <th>Otros estados</th>\n",
              "      <td>6926810883612</td>\n",
              "    </tr>\n",
              "  </tbody>\n",
              "</table>\n",
              "</div>\n",
              "    <div class=\"colab-df-buttons\">\n",
              "\n",
              "  <div class=\"colab-df-container\">\n",
              "    <button class=\"colab-df-convert\" onclick=\"convertToInteractive('df-f436d293-7bed-498b-bc57-7e03d5d977c9')\"\n",
              "            title=\"Convert this dataframe to an interactive table.\"\n",
              "            style=\"display:none;\">\n",
              "\n",
              "  <svg xmlns=\"http://www.w3.org/2000/svg\" height=\"24px\" viewBox=\"0 -960 960 960\">\n",
              "    <path d=\"M120-120v-720h720v720H120Zm60-500h600v-160H180v160Zm220 220h160v-160H400v160Zm0 220h160v-160H400v160ZM180-400h160v-160H180v160Zm440 0h160v-160H620v160ZM180-180h160v-160H180v160Zm440 0h160v-160H620v160Z\"/>\n",
              "  </svg>\n",
              "    </button>\n",
              "\n",
              "  <style>\n",
              "    .colab-df-container {\n",
              "      display:flex;\n",
              "      gap: 12px;\n",
              "    }\n",
              "\n",
              "    .colab-df-convert {\n",
              "      background-color: #E8F0FE;\n",
              "      border: none;\n",
              "      border-radius: 50%;\n",
              "      cursor: pointer;\n",
              "      display: none;\n",
              "      fill: #1967D2;\n",
              "      height: 32px;\n",
              "      padding: 0 0 0 0;\n",
              "      width: 32px;\n",
              "    }\n",
              "\n",
              "    .colab-df-convert:hover {\n",
              "      background-color: #E2EBFA;\n",
              "      box-shadow: 0px 1px 2px rgba(60, 64, 67, 0.3), 0px 1px 3px 1px rgba(60, 64, 67, 0.15);\n",
              "      fill: #174EA6;\n",
              "    }\n",
              "\n",
              "    .colab-df-buttons div {\n",
              "      margin-bottom: 4px;\n",
              "    }\n",
              "\n",
              "    [theme=dark] .colab-df-convert {\n",
              "      background-color: #3B4455;\n",
              "      fill: #D2E3FC;\n",
              "    }\n",
              "\n",
              "    [theme=dark] .colab-df-convert:hover {\n",
              "      background-color: #434B5C;\n",
              "      box-shadow: 0px 1px 3px 1px rgba(0, 0, 0, 0.15);\n",
              "      filter: drop-shadow(0px 1px 2px rgba(0, 0, 0, 0.3));\n",
              "      fill: #FFFFFF;\n",
              "    }\n",
              "  </style>\n",
              "\n",
              "    <script>\n",
              "      const buttonEl =\n",
              "        document.querySelector('#df-f436d293-7bed-498b-bc57-7e03d5d977c9 button.colab-df-convert');\n",
              "      buttonEl.style.display =\n",
              "        google.colab.kernel.accessAllowed ? 'block' : 'none';\n",
              "\n",
              "      async function convertToInteractive(key) {\n",
              "        const element = document.querySelector('#df-f436d293-7bed-498b-bc57-7e03d5d977c9');\n",
              "        const dataTable =\n",
              "          await google.colab.kernel.invokeFunction('convertToInteractive',\n",
              "                                                    [key], {});\n",
              "        if (!dataTable) return;\n",
              "\n",
              "        const docLinkHtml = 'Like what you see? Visit the ' +\n",
              "          '<a target=\"_blank\" href=https://colab.research.google.com/notebooks/data_table.ipynb>data table notebook</a>'\n",
              "          + ' to learn more about interactive tables.';\n",
              "        element.innerHTML = '';\n",
              "        dataTable['output_type'] = 'display_data';\n",
              "        await google.colab.output.renderOutput(dataTable, element);\n",
              "        const docLink = document.createElement('div');\n",
              "        docLink.innerHTML = docLinkHtml;\n",
              "        element.appendChild(docLink);\n",
              "      }\n",
              "    </script>\n",
              "  </div>\n",
              "\n",
              "\n",
              "<div id=\"df-dce1f5a0-f9ac-4b37-9be0-e88206e8ca87\">\n",
              "  <button class=\"colab-df-quickchart\" onclick=\"quickchart('df-dce1f5a0-f9ac-4b37-9be0-e88206e8ca87')\"\n",
              "            title=\"Suggest charts\"\n",
              "            style=\"display:none;\">\n",
              "\n",
              "<svg xmlns=\"http://www.w3.org/2000/svg\" height=\"24px\"viewBox=\"0 0 24 24\"\n",
              "     width=\"24px\">\n",
              "    <g>\n",
              "        <path d=\"M19 3H5c-1.1 0-2 .9-2 2v14c0 1.1.9 2 2 2h14c1.1 0 2-.9 2-2V5c0-1.1-.9-2-2-2zM9 17H7v-7h2v7zm4 0h-2V7h2v10zm4 0h-2v-4h2v4z\"/>\n",
              "    </g>\n",
              "</svg>\n",
              "  </button>\n",
              "\n",
              "<style>\n",
              "  .colab-df-quickchart {\n",
              "      --bg-color: #E8F0FE;\n",
              "      --fill-color: #1967D2;\n",
              "      --hover-bg-color: #E2EBFA;\n",
              "      --hover-fill-color: #174EA6;\n",
              "      --disabled-fill-color: #AAA;\n",
              "      --disabled-bg-color: #DDD;\n",
              "  }\n",
              "\n",
              "  [theme=dark] .colab-df-quickchart {\n",
              "      --bg-color: #3B4455;\n",
              "      --fill-color: #D2E3FC;\n",
              "      --hover-bg-color: #434B5C;\n",
              "      --hover-fill-color: #FFFFFF;\n",
              "      --disabled-bg-color: #3B4455;\n",
              "      --disabled-fill-color: #666;\n",
              "  }\n",
              "\n",
              "  .colab-df-quickchart {\n",
              "    background-color: var(--bg-color);\n",
              "    border: none;\n",
              "    border-radius: 50%;\n",
              "    cursor: pointer;\n",
              "    display: none;\n",
              "    fill: var(--fill-color);\n",
              "    height: 32px;\n",
              "    padding: 0;\n",
              "    width: 32px;\n",
              "  }\n",
              "\n",
              "  .colab-df-quickchart:hover {\n",
              "    background-color: var(--hover-bg-color);\n",
              "    box-shadow: 0 1px 2px rgba(60, 64, 67, 0.3), 0 1px 3px 1px rgba(60, 64, 67, 0.15);\n",
              "    fill: var(--button-hover-fill-color);\n",
              "  }\n",
              "\n",
              "  .colab-df-quickchart-complete:disabled,\n",
              "  .colab-df-quickchart-complete:disabled:hover {\n",
              "    background-color: var(--disabled-bg-color);\n",
              "    fill: var(--disabled-fill-color);\n",
              "    box-shadow: none;\n",
              "  }\n",
              "\n",
              "  .colab-df-spinner {\n",
              "    border: 2px solid var(--fill-color);\n",
              "    border-color: transparent;\n",
              "    border-bottom-color: var(--fill-color);\n",
              "    animation:\n",
              "      spin 1s steps(1) infinite;\n",
              "  }\n",
              "\n",
              "  @keyframes spin {\n",
              "    0% {\n",
              "      border-color: transparent;\n",
              "      border-bottom-color: var(--fill-color);\n",
              "      border-left-color: var(--fill-color);\n",
              "    }\n",
              "    20% {\n",
              "      border-color: transparent;\n",
              "      border-left-color: var(--fill-color);\n",
              "      border-top-color: var(--fill-color);\n",
              "    }\n",
              "    30% {\n",
              "      border-color: transparent;\n",
              "      border-left-color: var(--fill-color);\n",
              "      border-top-color: var(--fill-color);\n",
              "      border-right-color: var(--fill-color);\n",
              "    }\n",
              "    40% {\n",
              "      border-color: transparent;\n",
              "      border-right-color: var(--fill-color);\n",
              "      border-top-color: var(--fill-color);\n",
              "    }\n",
              "    60% {\n",
              "      border-color: transparent;\n",
              "      border-right-color: var(--fill-color);\n",
              "    }\n",
              "    80% {\n",
              "      border-color: transparent;\n",
              "      border-right-color: var(--fill-color);\n",
              "      border-bottom-color: var(--fill-color);\n",
              "    }\n",
              "    90% {\n",
              "      border-color: transparent;\n",
              "      border-bottom-color: var(--fill-color);\n",
              "    }\n",
              "  }\n",
              "</style>\n",
              "\n",
              "  <script>\n",
              "    async function quickchart(key) {\n",
              "      const quickchartButtonEl =\n",
              "        document.querySelector('#' + key + ' button');\n",
              "      quickchartButtonEl.disabled = true;  // To prevent multiple clicks.\n",
              "      quickchartButtonEl.classList.add('colab-df-spinner');\n",
              "      try {\n",
              "        const charts = await google.colab.kernel.invokeFunction(\n",
              "            'suggestCharts', [key], {});\n",
              "      } catch (error) {\n",
              "        console.error('Error during call to suggestCharts:', error);\n",
              "      }\n",
              "      quickchartButtonEl.classList.remove('colab-df-spinner');\n",
              "      quickchartButtonEl.classList.add('colab-df-quickchart-complete');\n",
              "    }\n",
              "    (() => {\n",
              "      let quickchartButtonEl =\n",
              "        document.querySelector('#df-dce1f5a0-f9ac-4b37-9be0-e88206e8ca87 button');\n",
              "      quickchartButtonEl.style.display =\n",
              "        google.colab.kernel.accessAllowed ? 'block' : 'none';\n",
              "    })();\n",
              "  </script>\n",
              "</div>\n",
              "\n",
              "  <div id=\"id_6fc32404-5f65-485c-bf27-cb6e5a1a0b2a\">\n",
              "    <style>\n",
              "      .colab-df-generate {\n",
              "        background-color: #E8F0FE;\n",
              "        border: none;\n",
              "        border-radius: 50%;\n",
              "        cursor: pointer;\n",
              "        display: none;\n",
              "        fill: #1967D2;\n",
              "        height: 32px;\n",
              "        padding: 0 0 0 0;\n",
              "        width: 32px;\n",
              "      }\n",
              "\n",
              "      .colab-df-generate:hover {\n",
              "        background-color: #E2EBFA;\n",
              "        box-shadow: 0px 1px 2px rgba(60, 64, 67, 0.3), 0px 1px 3px 1px rgba(60, 64, 67, 0.15);\n",
              "        fill: #174EA6;\n",
              "      }\n",
              "\n",
              "      [theme=dark] .colab-df-generate {\n",
              "        background-color: #3B4455;\n",
              "        fill: #D2E3FC;\n",
              "      }\n",
              "\n",
              "      [theme=dark] .colab-df-generate:hover {\n",
              "        background-color: #434B5C;\n",
              "        box-shadow: 0px 1px 3px 1px rgba(0, 0, 0, 0.15);\n",
              "        filter: drop-shadow(0px 1px 2px rgba(0, 0, 0, 0.3));\n",
              "        fill: #FFFFFF;\n",
              "      }\n",
              "    </style>\n",
              "    <button class=\"colab-df-generate\" onclick=\"generateWithVariable('df_mg_2020')\"\n",
              "            title=\"Generate code using this dataframe.\"\n",
              "            style=\"display:none;\">\n",
              "\n",
              "  <svg xmlns=\"http://www.w3.org/2000/svg\" height=\"24px\"viewBox=\"0 0 24 24\"\n",
              "       width=\"24px\">\n",
              "    <path d=\"M7,19H8.4L18.45,9,17,7.55,7,17.6ZM5,21V16.75L18.45,3.32a2,2,0,0,1,2.83,0l1.4,1.43a1.91,1.91,0,0,1,.58,1.4,1.91,1.91,0,0,1-.58,1.4L9.25,21ZM18.45,9,17,7.55Zm-12,3A5.31,5.31,0,0,0,4.9,8.1,5.31,5.31,0,0,0,1,6.5,5.31,5.31,0,0,0,4.9,4.9,5.31,5.31,0,0,0,6.5,1,5.31,5.31,0,0,0,8.1,4.9,5.31,5.31,0,0,0,12,6.5,5.46,5.46,0,0,0,6.5,12Z\"/>\n",
              "  </svg>\n",
              "    </button>\n",
              "    <script>\n",
              "      (() => {\n",
              "      const buttonEl =\n",
              "        document.querySelector('#id_6fc32404-5f65-485c-bf27-cb6e5a1a0b2a button.colab-df-generate');\n",
              "      buttonEl.style.display =\n",
              "        google.colab.kernel.accessAllowed ? 'block' : 'none';\n",
              "\n",
              "      buttonEl.onclick = () => {\n",
              "        google.colab.notebook.generateWithVariable('df_mg_2020');\n",
              "      }\n",
              "      })();\n",
              "    </script>\n",
              "  </div>\n",
              "\n",
              "    </div>\n",
              "  </div>\n"
            ],
            "application/vnd.google.colaboratory.intrinsic+json": {
              "type": "dataframe",
              "variable_name": "df_mg_2020",
              "summary": "{\n  \"name\": \"df_mg_2020\",\n  \"rows\": 2,\n  \"fields\": [\n    {\n      \"column\": \"estado\",\n      \"properties\": {\n        \"dtype\": \"string\",\n        \"num_unique_values\": 2,\n        \"samples\": [\n          \"Otros estados\",\n          \"Minas Gerais\"\n        ],\n        \"semantic_type\": \"\",\n        \"description\": \"\"\n      }\n    },\n    {\n      \"column\": \"pib\",\n      \"properties\": {\n        \"dtype\": \"number\",\n        \"std\": 4415192254787,\n        \"min\": 682786116407,\n        \"max\": 6926810883612,\n        \"num_unique_values\": 2,\n        \"samples\": [\n          6926810883612,\n          682786116407\n        ],\n        \"semantic_type\": \"\",\n        \"description\": \"\"\n      }\n    }\n  ]\n}"
            }
          },
          "metadata": {},
          "execution_count": 9
        }
      ]
    },
    {
      "cell_type": "markdown",
      "source": [
        "#### Generando el gráfico"
      ],
      "metadata": {
        "id": "AYq7_n8OZfRd"
      }
    },
    {
      "cell_type": "code",
      "source": [
        "fig,ax = plt.subplots(figsize=(6,6))\n",
        "\n",
        "colores = [AZUL3,GRIS5]\n",
        "\n",
        "plt.suptitle('PIB de Minas Gerais con respecto a Brasil en 2020', fontsize=18,\n",
        "             color=GRIS1, ha='left',x=0,y=0.9)\n",
        "\n",
        "ptc,text,_ = ax.pie(data=df_mg_2020,x='pib',labels=df_mg_2020.index,\n",
        "                    autopct='%.1f%%',startangle=0, pctdistance=0.8,\n",
        "                    wedgeprops=dict(width=0.4),\n",
        "                    textprops=dict(size=12,fontweight='bold',color=BLANCO),\n",
        "                    colors=colores)\n",
        "\n",
        "for i, p in enumerate(ptc):\n",
        "  text[i].set_color(p.get_facecolor())\n",
        "\n",
        "plt.show()"
      ],
      "metadata": {
        "id": "Lyx_ldXrNdIU",
        "colab": {
          "base_uri": "https://localhost:8080/",
          "height": 511
        },
        "outputId": "76b933a7-e8da-4ece-cc23-2c610421e298"
      },
      "execution_count": null,
      "outputs": [
        {
          "output_type": "display_data",
          "data": {
            "text/plain": [
              "<Figure size 600x600 with 1 Axes>"
            ],
            "image/png": "[encoded data removed]"
          },
          "metadata": {}
        }
      ]
    },
    {
      "cell_type": "markdown",
      "source": [
        "<font color=green size=4> Conclusiones: </font>\n",
        "\n",
        "---\n",
        "\n",
        "El gráfico de dona presenta la mejor forma de utilizar los gráficos de pastel y de dona en una visualización: comparando datos binarios o dicotómicos. Aquí, hicimos la comparación del PIB de Minas Gerais en relación a todo Brasil en el año 2020.\n",
        "\n",
        "Como sugerencia, podemos analizar otro estado en que tengas interés en comparar con todo Brasil o incluso una región en su totalidad en un año dado."
      ],
      "metadata": {
        "id": "NMNebSXmZfRe"
      }
    },
    {
      "cell_type": "markdown",
      "source": [
        "# **Aula 2 - Composición de datos estáticos**"
      ],
      "metadata": {
        "id": "NzC9mzrHhzW3"
      }
    },
    {
      "cell_type": "markdown",
      "source": [
        "<img src=\"https://raw.githubusercontent.com/ahcamachod/2083-visualizacion-de-datos-composicion-y-relacionamiento/main/cascada.png\" alt=\"inserir alt\" height=\"343\">\n",
        "\n",
        "\n",
        "<font size=2>Fuente: Andrew Abela (Extreme Presentation/Biuwer)</font>\n"
      ],
      "metadata": {
        "id": "n1VvSCOeyI4w"
      }
    },
    {
      "cell_type": "markdown",
      "source": [
        "## **2.1 - Gráfico de cascada simple**\n",
        "\n",
        "---\n",
        "\n"
      ],
      "metadata": {
        "id": "nSkpelMIsivz"
      }
    },
    {
      "cell_type": "markdown",
      "source": [
        "### **Pregunta 4 -** ¿Cómo está distribuido el PIB del estado de Bahía en 2020 separado por impuestos líquidos y los valores agregados brutos de los bienes y servicios producidos?"
      ],
      "metadata": {
        "id": "jG3xTIBYscd1"
      }
    },
    {
      "cell_type": "markdown",
      "source": [
        "#### Tratando los datos para generar la visualización"
      ],
      "metadata": {
        "id": "G1Rd-o0uscd2"
      }
    },
    {
      "cell_type": "code",
      "source": [],
      "metadata": {
        "id": "fZgvwdQ6sg04"
      },
      "execution_count": null,
      "outputs": []
    },
    {
      "cell_type": "code",
      "source": [],
      "metadata": {
        "id": "txf3xgRSsgwL"
      },
      "execution_count": null,
      "outputs": []
    },
    {
      "cell_type": "code",
      "source": [],
      "metadata": {
        "id": "VjjhmnW9sgpV"
      },
      "execution_count": null,
      "outputs": []
    },
    {
      "cell_type": "markdown",
      "source": [
        "#### Generando el gráfico"
      ],
      "metadata": {
        "id": "gczjrv2Yscd5"
      }
    },
    {
      "cell_type": "code",
      "source": [],
      "metadata": {
        "id": "Kx6doi12sfFy"
      },
      "execution_count": null,
      "outputs": []
    },
    {
      "cell_type": "markdown",
      "source": [
        "<font color=green size=4> Conclusiones: </font>\n",
        "\n",
        "---\n",
        "\n",
        "Un gráfico de cascada es ampliamente utilizado en datos económicos y financieros debido a su naturaleza de representar de manera simple y directa la acumulación y/o sustracción del total en un período determinado o en diferentes categorías.\n",
        "\n",
        "Como sugerencia, podemos analizar estos valores desde otro estado de tu preferencia, o incluso separar los valores agregados por tipo de servicio mostrando la agregación de cada uno.\n",
        "\n",
        "**Observación:** Para ayudar en la comprensión del gráfico, los bienes y servicios finales que componen el PIB se miden al precio al que llegan al consumidor. De esta manera, también se tienen en cuenta los impuestos sobre los productos comercializados."
      ],
      "metadata": {
        "id": "bC-BzT5dscd8"
      }
    },
    {
      "cell_type": "markdown",
      "source": [
        "## **2.2 - Añadiendo más incrementos/disminuciones**\n",
        "\n",
        "---\n",
        "\n"
      ],
      "metadata": {
        "id": "RykpKIOwxwMr"
      }
    },
    {
      "cell_type": "markdown",
      "source": [
        "### **Pregunta 5 -** ¿Cuál es la evolución anual del PIB del estado de Río de Janeiro entre los años de 2010 a 2020?"
      ],
      "metadata": {
        "id": "dYmDjVM0J07p"
      }
    },
    {
      "cell_type": "markdown",
      "source": [
        "#### Tratando los datos para generar la visualización"
      ],
      "metadata": {
        "id": "uLZzjFG5J07q"
      }
    },
    {
      "cell_type": "code",
      "source": [],
      "metadata": {
        "id": "pCU3K9PJscBE"
      },
      "execution_count": null,
      "outputs": []
    },
    {
      "cell_type": "code",
      "source": [],
      "metadata": {
        "id": "dSHjeyZRsb8s"
      },
      "execution_count": null,
      "outputs": []
    },
    {
      "cell_type": "code",
      "source": [],
      "metadata": {
        "id": "LWuEp448sb1r"
      },
      "execution_count": null,
      "outputs": []
    },
    {
      "cell_type": "markdown",
      "source": [
        "#### Generando el gráfico"
      ],
      "metadata": {
        "id": "WyAcgUzyJ07s"
      }
    },
    {
      "cell_type": "code",
      "source": [],
      "metadata": {
        "id": "W3IggTR1sZsH"
      },
      "execution_count": null,
      "outputs": []
    },
    {
      "cell_type": "markdown",
      "source": [
        "<font color=green size=4> Conclusiones: </font>\n",
        "\n",
        "---\n",
        "\n",
        "En este ejemplo, se utilizó el gráfico de cascada para mostrar la evolución del PIB de un estado año tras año, partiendo del valor inicial (año 2010) hasta el final (año 2020, representado por la columna Total). Se pueden observar incrementos y decrementos a lo largo del tiempo, representados por los colores verde y rojo, respectivamente.\n",
        "\n",
        "Como sugerencia, podemos analizar la evolución del PIB en otra región de tú interés."
      ],
      "metadata": {
        "id": "8EZIMX7uJ07u"
      }
    },
    {
      "cell_type": "markdown",
      "source": [
        "# **Aula 3 - Composición con datos dinámicos**"
      ],
      "metadata": {
        "id": "GsmF9DD1zztg"
      }
    },
    {
      "cell_type": "markdown",
      "source": [
        "<img src=\"https://raw.githubusercontent.com/ahcamachod/2083-visualizacion-de-datos-composicion-y-relacionamiento/main/cascada.png\" alt=\"inserir alt\" height=\"343\">\n",
        "\n",
        "\n",
        "<font size=2>Fuente: Andrew Abela (Extreme Presentation/Biuwer)</font>\n"
      ],
      "metadata": {
        "id": "AfhD_Wlfzzth"
      }
    },
    {
      "cell_type": "markdown",
      "source": [
        "## **3.1 - Columnas agrupadas x apiladas**\n",
        "\n",
        "---\n",
        "\n"
      ],
      "metadata": {
        "id": "vF3ePz1ByEiu"
      }
    },
    {
      "cell_type": "markdown",
      "source": [
        "### **Pregunta 6 -** ¿Cómo está distribuido el PIB en los 3 últimos quinquenios (lustro) de los datos (2010, 2015, 2020) en la Región Sur de Brasil divididos por los estados (Paraná, Santa Catarina y Río Grande del Sur)?"
      ],
      "metadata": {
        "id": "HzhhB4-TeRXq"
      }
    },
    {
      "cell_type": "markdown",
      "source": [
        "#### Tratando los datos para generar la visualización"
      ],
      "metadata": {
        "id": "AdhrRcWbeRXr"
      }
    },
    {
      "cell_type": "code",
      "source": [],
      "metadata": {
        "id": "PjQNv3B0sQsC"
      },
      "execution_count": null,
      "outputs": []
    },
    {
      "cell_type": "code",
      "source": [],
      "metadata": {
        "id": "Egx4ohjVsQj8"
      },
      "execution_count": null,
      "outputs": []
    },
    {
      "cell_type": "markdown",
      "source": [
        "#### Generando el gráfico"
      ],
      "metadata": {
        "id": "fkEmKm8BKOUN"
      }
    },
    {
      "cell_type": "code",
      "source": [],
      "metadata": {
        "id": "4H4ZVSExsPJt"
      },
      "execution_count": null,
      "outputs": []
    },
    {
      "cell_type": "markdown",
      "source": [
        "<font color=green size=4> Conclusiones: </font>\n",
        "\n",
        "---\n",
        "\n",
        "En este ejemplo, presentamos las diferencias entre columnas agrupadas y apiladas. La primera refleja los valores absolutos del PIB en cada estado de la Región Sur por quinquenio (lustro), mientras que la segunda representa los valores relativos compilados año a año de la región en su conjunto.\n"
      ],
      "metadata": {
        "id": "_VzWByW5eRXx"
      }
    },
    {
      "cell_type": "markdown",
      "source": [
        "## **3.2 - Gráfico de barras apiladas**\n",
        "\n",
        "---\n",
        "\n"
      ],
      "metadata": {
        "id": "nZRaxGNlZIiC"
      }
    },
    {
      "cell_type": "markdown",
      "source": [
        "### **Pregunta 7 -** ¿Cómo están distribuidos, en porcentaje, los valores agregados de bienes y servicios descritos en la base de datos en relación a cada región en el año de 2020?"
      ],
      "metadata": {
        "id": "lkRGyuqXcOrL"
      }
    },
    {
      "cell_type": "markdown",
      "source": [
        "#### Tratando los datos para generar la visualización"
      ],
      "metadata": {
        "id": "xOXJs9GLcOrM"
      }
    },
    {
      "cell_type": "code",
      "source": [],
      "metadata": {
        "id": "9hT-WC6YsM1f"
      },
      "execution_count": null,
      "outputs": []
    },
    {
      "cell_type": "code",
      "source": [],
      "metadata": {
        "id": "tKJmWs_isMot"
      },
      "execution_count": null,
      "outputs": []
    },
    {
      "cell_type": "markdown",
      "source": [
        "#### Generando el gráfico"
      ],
      "metadata": {
        "id": "HdQTXUnvKQ9q"
      }
    },
    {
      "cell_type": "code",
      "source": [],
      "metadata": {
        "id": "NbBRwyCZsKz_"
      },
      "execution_count": null,
      "outputs": []
    },
    {
      "cell_type": "markdown",
      "source": [
        "## **3.3 - Anotaciones y leyenda de los datos**\n",
        "\n",
        "---\n",
        "\n"
      ],
      "metadata": {
        "id": "sNHJI5BWZVgP"
      }
    },
    {
      "cell_type": "markdown",
      "source": [
        "Vamos a trabajar con una función para la escritura de texto utilizando colores diferentes.\n",
        "\n",
        "> (Adaptada de https://github.com/empathy87/storytelling-with-data)\n",
        "\n"
      ],
      "metadata": {
        "id": "cjzmS_G7brRI"
      }
    },
    {
      "cell_type": "code",
      "source": [
        "# Función para escribir texto usando diferentes colores. No existe una fución\n",
        "# nativa para hacerlo. (Adaptado de https://github.com/empathy87/storytelling-with-data)\n",
        "from matplotlib import transforms\n",
        "\n",
        "def texto_a_color(x, y, texto, colores, esp=20, ax=None, **kw):\n",
        "    colores = list(reversed(colores))\n",
        "    t = ax.transData\n",
        "    canvas = ax.figure.canvas\n",
        "\n",
        "    for i, linha in enumerate(reversed(texto.split('\\n'))):\n",
        "        frases = linha.split('||')\n",
        "        for s, cor in zip(frases, colores[i]):\n",
        "            texto = ax.text(x, y, s, color=cor, transform=t, **kw)\n",
        "            texto.draw(canvas.get_renderer())\n",
        "            ex = texto.get_window_extent()\n",
        "            t = transforms.offset_copy(texto._transform, x=ex.width,\n",
        "                                       units='dots')\n",
        "\n",
        "        t = transforms.offset_copy(ax.transData, x=0, y=(i + 1) * esp, units='dots')"
      ],
      "metadata": {
        "id": "Z30pd_ZmdKnG"
      },
      "execution_count": null,
      "outputs": []
    },
    {
      "cell_type": "markdown",
      "source": [
        "#### Generando el gráfico"
      ],
      "metadata": {
        "id": "xQK2aEVSPOGs"
      }
    },
    {
      "cell_type": "code",
      "source": [],
      "metadata": {
        "id": "T2Qy1E1ssHiz"
      },
      "execution_count": null,
      "outputs": []
    },
    {
      "cell_type": "markdown",
      "source": [
        "<font color=green size=4> Conclusiones: </font>\n",
        "\n",
        "---\n",
        "\n",
        "Las barras apiladas son extremadamente útiles para representar datos en períodos cortos y cuando deseamos comparar diferencias absolutas y relativas o solo relativas (como en el ejemplo anterior).\n",
        "\n",
        "Como sugerencia, podemos analizar la composición de los datos en relación con los sectores de una región dada, separados por estados."
      ],
      "metadata": {
        "id": "42OU6GlYcOrQ"
      }
    },
    {
      "cell_type": "markdown",
      "source": [
        "# **Aula 4 - Investigando la variación de los datos**"
      ],
      "metadata": {
        "id": "u4daHAtucvyL"
      }
    },
    {
      "cell_type": "markdown",
      "source": [
        "<img src=\"https://raw.githubusercontent.com/ahcamachod/2083-visualizacion-de-datos-composicion-y-relacionamiento/main/area.png\" alt=\"inserir alt\" height=\"343\">\n",
        "\n",
        "\n",
        "<font size=2>Fuente: Andrew Abela (Extreme Presentation/Biuwer)</font>\n"
      ],
      "metadata": {
        "id": "ci5ZaATmcyee"
      }
    },
    {
      "cell_type": "markdown",
      "source": [
        "## **4.1 - Gráfico de área**\n",
        "\n",
        "---\n",
        "\n"
      ],
      "metadata": {
        "id": "y4nQ5kYxOXl8"
      }
    },
    {
      "cell_type": "markdown",
      "source": [
        "### **Pregunta 8 -** En el sector agropecuario, ¿cómo están distribuidos sus valores agregados por región dentro del período de la base de datos (2002 - 2020)?"
      ],
      "metadata": {
        "id": "YW24pMN0Ki6d"
      }
    },
    {
      "cell_type": "markdown",
      "source": [
        "#### Tratando los datos para generar la visualización"
      ],
      "metadata": {
        "id": "CItml9JhKi6d"
      }
    },
    {
      "cell_type": "code",
      "source": [],
      "metadata": {
        "id": "dBj6OoGHr6oN"
      },
      "execution_count": null,
      "outputs": []
    },
    {
      "cell_type": "markdown",
      "source": [
        "#### Generando el gráfico"
      ],
      "metadata": {
        "id": "qtk1QwX1Ki6e"
      }
    },
    {
      "cell_type": "code",
      "source": [],
      "metadata": {
        "id": "LwuNDMOYr4jD"
      },
      "execution_count": null,
      "outputs": []
    },
    {
      "cell_type": "markdown",
      "source": [
        "<font color=green size=4> Conclusiones: </font>\n",
        "\n",
        "---\n",
        "\n",
        "Los gráficos de áreas son extremadamente útiles cuando queremos enfatizar la magnitud de los cambios a lo largo del período. Consisten en una unión de varias líneas apiladas rellenas con el color de cada categoría para representar los datos a lo largo del tiempo. En el ejemplo anterior, utilizamos el gráfico de áreas en el que tanto la diferencia absoluta (valores a lo largo del tiempo) como la relativa (grosor entre ellas) son importantes en nuestro análisis.\n",
        "\n",
        "Como sugerencia, podemos analizar la composición de los datos en relación con otros sectores."
      ],
      "metadata": {
        "id": "EFANO8zp-1ir"
      }
    },
    {
      "cell_type": "markdown",
      "source": [
        "## **4.2 - Gráfico de inclinación**\n",
        "\n",
        "---\n",
        "\n"
      ],
      "metadata": {
        "id": "rQaLziqMgXCa"
      }
    },
    {
      "cell_type": "markdown",
      "source": [
        "#### Tratando los datos para generar la visualización"
      ],
      "metadata": {
        "id": "TuC316_JYQL1"
      }
    },
    {
      "cell_type": "code",
      "source": [],
      "metadata": {
        "id": "B8GAPPNNr2fp"
      },
      "execution_count": null,
      "outputs": []
    },
    {
      "cell_type": "markdown",
      "source": [
        "#### Generando el gráfico"
      ],
      "metadata": {
        "id": "JM5glS-IYS7x"
      }
    },
    {
      "cell_type": "code",
      "source": [],
      "metadata": {
        "id": "1DJZ6ojGr0w_"
      },
      "execution_count": null,
      "outputs": []
    },
    {
      "cell_type": "markdown",
      "source": [
        "## **4.3 - Mejorando el gráfico**\n",
        "\n",
        "---\n",
        "\n"
      ],
      "metadata": {
        "id": "VbkmUTqsnN20"
      }
    },
    {
      "cell_type": "code",
      "source": [],
      "metadata": {
        "id": "WVu_d04Trx1t"
      },
      "execution_count": null,
      "outputs": []
    },
    {
      "cell_type": "markdown",
      "source": [
        "<font color=green size=4> Conclusiones: </font>\n",
        "\n",
        "---\n",
        "\n",
        "Los gráficos de inclinación son útiles cuando queremos comparar dos períodos de tiempo, mostrando de manera simple y directa los aumentos y disminuciones relativas entre dos puntos de los datos.\n",
        "\n",
        "Como sugerencia, podemos analizar esta relación desde otros sectores."
      ],
      "metadata": {
        "id": "59101h3-Ki6f"
      }
    },
    {
      "cell_type": "markdown",
      "source": [
        "# **Aula 5 - Relacionando los datos**"
      ],
      "metadata": {
        "id": "HYm_qsOvn6oV"
      }
    },
    {
      "cell_type": "markdown",
      "source": [
        "## **5.1 - Presentando la base de datos**\n",
        "---"
      ],
      "metadata": {
        "id": "wfAWxzoeNWJm"
      }
    },
    {
      "cell_type": "markdown",
      "source": [
        "### **Situación-problema 2**\n",
        "\n",
        "En esta situación problema, has recibido un conjunto de datos para analizar las calificaciones del Saber11, divididas por departamento, de las pruebas realizadas entre 2018 y 2022. Los datos describen el desempeño de los estudiantes en pruebas de Matemáticas, Inglés, Ciencias Naturales, Lectura Crítica y Ciencias Sociales además del puntaje global.\n",
        "\n",
        "El Saber11 se mide en una escala de 0 a 100, por materia, y es una herramienta importante para seguir el desarrollo de la educación básica en el país, permitiendo la evaluación de la efectividad de las políticas públicas en el área y la identificación de las regiones que necesitan mayor atención.\n",
        "\n",
        "Aquí, nos enfocaremos en investigar las calificaciones en las diferentes materias (Matemáticas, Inglés, Ciencias Naturales, Lectura Crítica y Ciencias Sociales), haciendo algunos comentarios sobre las preguntas planteadas."
      ],
      "metadata": {
        "id": "PwFQF88Zn6oW"
      }
    },
    {
      "cell_type": "code",
      "source": [],
      "metadata": {
        "id": "MpPnBnAJrhSQ"
      },
      "execution_count": null,
      "outputs": []
    },
    {
      "cell_type": "code",
      "source": [],
      "metadata": {
        "id": "QgnjARNcrhGi"
      },
      "execution_count": null,
      "outputs": []
    },
    {
      "cell_type": "markdown",
      "source": [
        "Después de visualizar rápidamente los datos que tenemos, vamos a pasar a los análisis que podemos realizar con estos datos y qué gráficos de relación vamos a utilizar para presentar este tipo de información.\n",
        "\n",
        "### **Preguntas**\n",
        "\n",
        "1. ¿Cuál es la relación entre los puntajes de Matemáticas y de lectura crítica considerando a estudiantes del estrato 4 en el año 2022? ¿Es positiva, negativa o no están correlacionadas?\n",
        "\n",
        "2. ¿Cuál es la relación entre los puntajes de inglés y el puntaje global por departamento en la región norte de Colombia (Atlántico, Bolivar, Magdalena, Córdoba y Sucre) considerando a las familias que declararon atravesar una situación económica peor en el año 2020? ¿Podemos trazar algún paralelo entre ellas? Si se sabe que el puntaje para acceder automáticamente a una beca es igual o superior a 360 puntos, y si se considera que el nivel avanzado de inglés es B+ (superior a 80 puntos), ¿puedes mostrar este comportamiento con los 4000 primeros registros de este grupo de estudiantes?"
      ],
      "metadata": {
        "id": "6Nvm3SBon6oW"
      }
    },
    {
      "cell_type": "markdown",
      "source": [
        "## **5.2 - Gráfico de dispersión**\n",
        "\n",
        "---\n",
        "\n"
      ],
      "metadata": {
        "id": "w3PGNu6-npgq"
      }
    },
    {
      "cell_type": "markdown",
      "source": [
        "<img src=\"https://raw.githubusercontent.com/ahcamachod/2083-visualizacion-de-datos-composicion-y-relacionamiento/main/relacion.png\" alt=\"inserir alt\" height=\"227\">\n",
        "\n",
        "\n",
        "<font size=2>Fuente: Andrew Abela (Extreme Presentation/Biuwer)</font>\n"
      ],
      "metadata": {
        "id": "MrzgsGqnnaG6"
      }
    },
    {
      "cell_type": "markdown",
      "source": [
        "### **Pregunta 1 -** ¿Cuál es la relación entre los puntajes de Matemáticas y de lectura crítica considerando a estudiantes del estrato 4 en el año 2022? ¿Es positiva, negativa o no están correlacionadas?"
      ],
      "metadata": {
        "id": "umnihXT5UGRk"
      }
    },
    {
      "cell_type": "markdown",
      "source": [
        "#### Visualizando los datos"
      ],
      "metadata": {
        "id": "nrg12u42TFod"
      }
    },
    {
      "cell_type": "code",
      "source": [],
      "metadata": {
        "id": "1JMKwIORreOU"
      },
      "execution_count": null,
      "outputs": []
    },
    {
      "cell_type": "code",
      "source": [],
      "metadata": {
        "id": "3xCgFKOireC6"
      },
      "execution_count": null,
      "outputs": []
    },
    {
      "cell_type": "markdown",
      "source": [
        "#### Generando el gráfico"
      ],
      "metadata": {
        "id": "0HEo-7PzTFof"
      }
    },
    {
      "cell_type": "code",
      "source": [],
      "metadata": {
        "id": "xdbmNAWsrb7Q"
      },
      "execution_count": null,
      "outputs": []
    },
    {
      "cell_type": "markdown",
      "source": [
        "<font color=green size=4> Conclusiones: </font>\n",
        "\n",
        "---\n",
        "\n",
        "El gráfico de dispersión se puede utilizar para relacionar datos entre dos variables numéricas de diferentes naturalezas. Esta relación puede ser positiva, negativa o neutra, lineal o no lineal.\n",
        "\n",
        "Aquí trazamos una línea en  torno a los datos que representa la tendencia entre ellos, similar al comportamiento que generamos al trabajar con modelos de regresión lineal."
      ],
      "metadata": {
        "id": "salts8m6TFog"
      }
    },
    {
      "cell_type": "markdown",
      "source": [
        "## **5.3 - Gráfico de dispersión con colores**\n",
        "\n",
        "---\n",
        "\n",
        "\n",
        "\n",
        "\n"
      ],
      "metadata": {
        "id": "XfP_QHVMfM1t"
      }
    },
    {
      "cell_type": "markdown",
      "source": [
        "### **Pregunta 2 -** ¿Cuál es la relación entre los puntajes de inglés y el puntaje global por departamento en la región norte de Colombia (Atlántico, Bolivar, Magdalena, Córdoba y Sucre) considerando a las familias que declararon atravesar una situación económica peor en el año 2020? ¿Podemos trazar algún paralelo entre ellas? Si se sabe que el puntaje para acceder automáticamente a una beca es igual o superior a 360 puntos, y si se considera que el nivel avanzado de inglés es B+ (superior a 80 puntos), ¿puedes mostrar este comportamiento con los 4000 primeros registros de este grupo de estudiantes?"
      ],
      "metadata": {
        "id": "Mgc031b6fM1u"
      }
    },
    {
      "cell_type": "markdown",
      "source": [
        "#### Visualizando los datos"
      ],
      "metadata": {
        "id": "-Vohyw2nfM1u"
      }
    },
    {
      "cell_type": "code",
      "source": [],
      "metadata": {
        "id": "KZ74sJljrZ8E"
      },
      "execution_count": null,
      "outputs": []
    },
    {
      "cell_type": "markdown",
      "source": [
        "#### Generando el gráfico"
      ],
      "metadata": {
        "id": "s6NtJoQNfM1u"
      }
    },
    {
      "cell_type": "code",
      "source": [],
      "metadata": {
        "id": "mCWjjaEBrW4r"
      },
      "execution_count": null,
      "outputs": []
    },
    {
      "cell_type": "markdown",
      "source": [
        "<font color=green size=4> Conclusiones: </font>\n",
        "\n",
        "---\n",
        "\n",
        "El gráfico de dispersión por colores añade una variable categórica al análisis (en nuestro ejemplo, la región).\n",
        "\n",
        "Para comprender un poco más sobre los niveles de proficiencia en el Saber 11, accede a este [link](https://eservicioseducativos.com/blog/interpretar-resultados-saber-11/).\n",
        "\n",
        "Aquí utilizamos dos recursos visuales: el de acercamiento (generado por la delimitación de los puntajes de inglés y global) y el de similitud a través de los colores, representando las categorías de los puntos representados por los departamentos en cuestión."
      ],
      "metadata": {
        "id": "Zc2zDiZKsMwn"
      }
    }
  ]
}